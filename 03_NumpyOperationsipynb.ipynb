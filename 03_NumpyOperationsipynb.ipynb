{
  "nbformat": 4,
  "nbformat_minor": 0,
  "metadata": {
    "colab": {
      "name": "03.NumpyOperationsipynb",
      "provenance": [],
      "collapsed_sections": [],
      "authorship_tag": "ABX9TyPAzRANe1a9/V1DORq081yA",
      "include_colab_link": true
    },
    "kernelspec": {
      "name": "python3",
      "display_name": "Python 3"
    },
    "language_info": {
      "name": "python"
    }
  },
  "cells": [
    {
      "cell_type": "markdown",
      "metadata": {
        "id": "view-in-github",
        "colab_type": "text"
      },
      "source": [
        "<a href=\"https://colab.research.google.com/github/iMike-505/Tratamiento-de-Datos/blob/main/03_NumpyOperationsipynb.ipynb\" target=\"_parent\"><img src=\"https://colab.research.google.com/assets/colab-badge.svg\" alt=\"Open In Colab\"/></a>"
      ]
    },
    {
      "cell_type": "code",
      "execution_count": 1,
      "metadata": {
        "id": "ZgqZa3rl3s1P"
      },
      "outputs": [],
      "source": [
        "import numpy as np"
      ]
    },
    {
      "cell_type": "code",
      "source": [
        "m1 = np.array([[1,2,3],\n",
        "              [10,11,12],\n",
        "              [-5,-8,-14]])\n",
        "print(m1)\n",
        "print(m1.shape)"
      ],
      "metadata": {
        "colab": {
          "base_uri": "https://localhost:8080/"
        },
        "id": "Cb729RUC31CX",
        "outputId": "a248d8b7-fdab-4718-cea8-05b38b1962f3"
      },
      "execution_count": 4,
      "outputs": [
        {
          "output_type": "stream",
          "name": "stdout",
          "text": [
            "[[  1   2   3]\n",
            " [ 10  11  12]\n",
            " [ -5  -8 -14]]\n",
            "(3, 3)\n"
          ]
        }
      ]
    },
    {
      "cell_type": "code",
      "source": [
        "#Las operaciones aritmeticas se aplican a todos los elementos de la matriz\n",
        "m1 * 200"
      ],
      "metadata": {
        "colab": {
          "base_uri": "https://localhost:8080/"
        },
        "id": "KGK_cl394N44",
        "outputId": "dd87d7b1-c47c-451f-dce7-c942c8c73d3f"
      },
      "execution_count": 3,
      "outputs": [
        {
          "output_type": "execute_result",
          "data": {
            "text/plain": [
              "array([[  200,   400,   600],\n",
              "       [ 2000,  2200,  2400],\n",
              "       [-1000, -1600, -2800]])"
            ]
          },
          "metadata": {},
          "execution_count": 3
        }
      ]
    },
    {
      "cell_type": "code",
      "source": [
        "#Al aplicar la operación a un elemento\n",
        "m1[1] + 15"
      ],
      "metadata": {
        "colab": {
          "base_uri": "https://localhost:8080/"
        },
        "id": "kKaq4hjK4bHK",
        "outputId": "3052b958-15c7-4621-98f5-09baa84f15c9"
      },
      "execution_count": 5,
      "outputs": [
        {
          "output_type": "execute_result",
          "data": {
            "text/plain": [
              "array([25, 26, 27])"
            ]
          },
          "metadata": {},
          "execution_count": 5
        }
      ]
    },
    {
      "cell_type": "code",
      "source": [
        "m1 / 5.45"
      ],
      "metadata": {
        "colab": {
          "base_uri": "https://localhost:8080/"
        },
        "id": "wCEOHCMF4qMe",
        "outputId": "6bc231a2-0a9e-432c-ca02-9730919631c6"
      },
      "execution_count": 6,
      "outputs": [
        {
          "output_type": "execute_result",
          "data": {
            "text/plain": [
              "array([[ 0.18348624,  0.36697248,  0.55045872],\n",
              "       [ 1.83486239,  2.01834862,  2.20183486],\n",
              "       [-0.91743119, -1.46788991, -2.56880734]])"
            ]
          },
          "metadata": {},
          "execution_count": 6
        }
      ]
    },
    {
      "cell_type": "code",
      "source": [
        "#Usar operadores lógicos por broadcasting\n",
        "m1 > 1"
      ],
      "metadata": {
        "colab": {
          "base_uri": "https://localhost:8080/"
        },
        "id": "mtCDPKak4x08",
        "outputId": "70c508ab-1ba4-48ce-a487-963f142f2b5b"
      },
      "execution_count": 7,
      "outputs": [
        {
          "output_type": "execute_result",
          "data": {
            "text/plain": [
              "array([[False,  True,  True],\n",
              "       [ True,  True,  True],\n",
              "       [False, False, False]])"
            ]
          },
          "metadata": {},
          "execution_count": 7
        }
      ]
    },
    {
      "cell_type": "code",
      "source": [
        "m2 = np.array([1, 2, 3])\n",
        "m3 = np.array([[2], [4], [6]])\n",
        "\n",
        "print(m2)\n",
        "print(m2.shape)\n",
        "\n",
        "print(m3)\n",
        "print(m3.shape)\n",
        "\n",
        "print(m1)\n",
        "print(m1.shape)"
      ],
      "metadata": {
        "colab": {
          "base_uri": "https://localhost:8080/"
        },
        "id": "rzTZNR9i5Ccl",
        "outputId": "010b9297-d600-407d-a218-87e39f7bdbc0"
      },
      "execution_count": 9,
      "outputs": [
        {
          "output_type": "stream",
          "name": "stdout",
          "text": [
            "[1 2 3]\n",
            "(3,)\n",
            "[[2]\n",
            " [4]\n",
            " [6]]\n",
            "(3, 1)\n",
            "[[  1   2   3]\n",
            " [ 10  11  12]\n",
            " [ -5  -8 -14]]\n",
            "(3, 3)\n"
          ]
        }
      ]
    },
    {
      "cell_type": "code",
      "source": [
        "m1 * m2"
      ],
      "metadata": {
        "colab": {
          "base_uri": "https://localhost:8080/"
        },
        "id": "P-03soxk5p6A",
        "outputId": "398050de-e627-4744-ddef-53ecfb284e0a"
      },
      "execution_count": 10,
      "outputs": [
        {
          "output_type": "execute_result",
          "data": {
            "text/plain": [
              "array([[  1,   4,   9],\n",
              "       [ 10,  22,  36],\n",
              "       [ -5, -16, -42]])"
            ]
          },
          "metadata": {},
          "execution_count": 10
        }
      ]
    },
    {
      "cell_type": "code",
      "source": [
        "m1 / m3"
      ],
      "metadata": {
        "colab": {
          "base_uri": "https://localhost:8080/"
        },
        "id": "iDXqoztT5skj",
        "outputId": "76ccb7a3-5896-429e-ab42-aa37d338e004"
      },
      "execution_count": 11,
      "outputs": [
        {
          "output_type": "execute_result",
          "data": {
            "text/plain": [
              "array([[ 0.5       ,  1.        ,  1.5       ],\n",
              "       [ 2.5       ,  2.75      ,  3.        ],\n",
              "       [-0.83333333, -1.33333333, -2.33333333]])"
            ]
          },
          "metadata": {},
          "execution_count": 11
        }
      ]
    },
    {
      "cell_type": "code",
      "source": [
        "m4 = m1 + 20\n",
        "m4"
      ],
      "metadata": {
        "colab": {
          "base_uri": "https://localhost:8080/"
        },
        "id": "nxuLRwwI5-7p",
        "outputId": "e318080a-cc1c-4eba-b7a8-7a2f403eeccd"
      },
      "execution_count": 12,
      "outputs": [
        {
          "output_type": "execute_result",
          "data": {
            "text/plain": [
              "array([[21, 22, 23],\n",
              "       [30, 31, 32],\n",
              "       [15, 12,  6]])"
            ]
          },
          "metadata": {},
          "execution_count": 12
        }
      ]
    },
    {
      "cell_type": "code",
      "source": [
        "m1 * m4"
      ],
      "metadata": {
        "colab": {
          "base_uri": "https://localhost:8080/"
        },
        "id": "2G8NFNJC6Cee",
        "outputId": "ccaf650e-2c9b-4cf7-904c-3e748f87cf76"
      },
      "execution_count": 13,
      "outputs": [
        {
          "output_type": "execute_result",
          "data": {
            "text/plain": [
              "array([[ 21,  44,  69],\n",
              "       [300, 341, 384],\n",
              "       [-75, -96, -84]])"
            ]
          },
          "metadata": {},
          "execution_count": 13
        }
      ]
    },
    {
      "cell_type": "code",
      "source": [
        "#Generar arreglos con valores aleatorios\n",
        "np.random.rand(2, 2, 2)"
      ],
      "metadata": {
        "colab": {
          "base_uri": "https://localhost:8080/"
        },
        "id": "hqWPfeE16RE0",
        "outputId": "41668a7f-bfda-4ca6-a75e-8588df106d04"
      },
      "execution_count": 17,
      "outputs": [
        {
          "output_type": "execute_result",
          "data": {
            "text/plain": [
              "array([[[0.55692386, 0.1385443 ],\n",
              "        [0.35529161, 0.60246337]],\n",
              "\n",
              "       [[0.31855952, 0.42682764],\n",
              "        [0.45231493, 0.11209058]]])"
            ]
          },
          "metadata": {},
          "execution_count": 17
        }
      ]
    },
    {
      "cell_type": "code",
      "source": [
        "#randint genera valores enteros aleatorios entre un rango\n",
        "np.random.randint(1, 4, (2, 2, 2))"
      ],
      "metadata": {
        "colab": {
          "base_uri": "https://localhost:8080/"
        },
        "id": "NHlcC_JN6ylD",
        "outputId": "fddc4733-c394-44a0-e8cd-22e4e3a0194b"
      },
      "execution_count": 43,
      "outputs": [
        {
          "output_type": "execute_result",
          "data": {
            "text/plain": [
              "array([[[1, 1],\n",
              "        [2, 2]],\n",
              "\n",
              "       [[3, 3],\n",
              "        [1, 2]]])"
            ]
          },
          "metadata": {},
          "execution_count": 43
        }
      ]
    },
    {
      "cell_type": "code",
      "source": [
        "np.random.randint(0, 256, (3, 2, 4))"
      ],
      "metadata": {
        "colab": {
          "base_uri": "https://localhost:8080/"
        },
        "id": "FJvzpwLz7M9r",
        "outputId": "cf14906d-d4c3-48a5-e630-fb1b4a40ccc9"
      },
      "execution_count": 19,
      "outputs": [
        {
          "output_type": "execute_result",
          "data": {
            "text/plain": [
              "array([[[138, 131,  72, 110],\n",
              "        [214,  96,  99, 151]],\n",
              "\n",
              "       [[ 83,  45, 116, 145],\n",
              "        [  5, 187, 236, 101]],\n",
              "\n",
              "       [[  9, 177, 218, 198],\n",
              "        [127,  35, 127,  70]]])"
            ]
          },
          "metadata": {},
          "execution_count": 19
        }
      ]
    },
    {
      "cell_type": "code",
      "source": [
        "numeros = np.array([[2.43, -3, 48.9999, -5.61],\n",
        "                   [np.inf, -np.inf, np.inf, np.inf],\n",
        "                   [np.nan, 17.78, 12, 22]])\n",
        "numeros"
      ],
      "metadata": {
        "colab": {
          "base_uri": "https://localhost:8080/"
        },
        "id": "yU536jK68A4u",
        "outputId": "4d8ea446-6996-402f-93ca-4fb6204a8bc9"
      },
      "execution_count": 53,
      "outputs": [
        {
          "output_type": "execute_result",
          "data": {
            "text/plain": [
              "array([[ 2.43  , -3.    , 48.9999, -5.61  ],\n",
              "       [    inf,    -inf,     inf,     inf],\n",
              "       [    nan, 17.78  , 12.    , 22.    ]])"
            ]
          },
          "metadata": {},
          "execution_count": 53
        }
      ]
    },
    {
      "cell_type": "code",
      "source": [
        "#Funciones de valor\n",
        "print(np.abs(numeros))\n",
        "print(np.floor(numeros))\n",
        "print(np.ceil(numeros))\n",
        "print(np.round(numeros))"
      ],
      "metadata": {
        "colab": {
          "base_uri": "https://localhost:8080/"
        },
        "id": "YpcWSxv78gOA",
        "outputId": "5d211f74-b2af-4e9e-8578-9b2781d8e4aa"
      },
      "execution_count": 54,
      "outputs": [
        {
          "output_type": "stream",
          "name": "stdout",
          "text": [
            "[[ 2.43    3.     48.9999  5.61  ]\n",
            " [    inf     inf     inf     inf]\n",
            " [    nan 17.78   12.     22.    ]]\n",
            "[[  2.  -3.  48.  -6.]\n",
            " [ inf -inf  inf  inf]\n",
            " [ nan  17.  12.  22.]]\n",
            "[[  3.  -3.  49.  -5.]\n",
            " [ inf -inf  inf  inf]\n",
            " [ nan  18.  12.  22.]]\n",
            "[[  2.  -3.  49.  -6.]\n",
            " [ inf -inf  inf  inf]\n",
            " [ nan  18.  12.  22.]]\n"
          ]
        }
      ]
    },
    {
      "cell_type": "markdown",
      "source": [
        "## Funciones de valor\n",
        "* ```np.abs()```\n",
        "* ```np.around()```\n",
        "* ```np.ceil()```\n",
        "* ```np.exp()```\n",
        "* ```np.exp2()```\n",
        "* ```np.fabs()```\n",
        "* ```np.fix()```\n",
        "* ```np.floor()```\n",
        "* ```np.log()```\n",
        "* ```np.log10()```\n",
        "* ```np.log1p()```\n",
        "* ```np.log2()```\n",
        "* ```np.logaddexp()```\n",
        "* ```np.logaddexp2()```\n",
        "* ```np.round()```\n"
      ],
      "metadata": {
        "id": "EAXpjqS3_eby"
      }
    },
    {
      "cell_type": "code",
      "source": [
        "#Funciones de evaluación de arreglos\n",
        "print(np.isfinite(numeros))\n",
        "print(np.isnan(numeros))\n",
        "print(np.isreal(numeros))\n",
        "print(np.isscalar(numeros))"
      ],
      "metadata": {
        "colab": {
          "base_uri": "https://localhost:8080/"
        },
        "id": "cj5VHiZg-IHC",
        "outputId": "413f67af-9c97-46a9-91a3-bcde6ebfcc71"
      },
      "execution_count": 55,
      "outputs": [
        {
          "output_type": "stream",
          "name": "stdout",
          "text": [
            "[[ True  True  True  True]\n",
            " [False False False False]\n",
            " [False  True  True  True]]\n",
            "[[False False False False]\n",
            " [False False False False]\n",
            " [ True False False False]]\n",
            "[[ True  True  True  True]\n",
            " [ True  True  True  True]\n",
            " [ True  True  True  True]]\n",
            "False\n"
          ]
        }
      ]
    },
    {
      "cell_type": "markdown",
      "source": [
        "## Funciones estadísticas.\n",
        "\n",
        "* ```np.amax()```\n",
        "* ```np amin()```\n",
        "* ```np.argmax()```\n",
        "* ```np.argmin()```\n",
        "* ```np.average()```\n",
        "* ```np.correlate()```\n",
        "* ```np.corrcoef()```\n",
        "* ```np.count_nonzero()```\n",
        "* ```np.cov()```\n",
        "* ```np.cumprod()```\n",
        "* ```np.cumsum()```\n",
        "* ```np.histogram()```\n",
        "* ```np.histogram2d()```\n",
        "* ```np.histogram_bin_edges()```\n",
        "* ```np.histogramdd()```\n",
        "* ```np.max()```\n",
        "* ```np.mean()```\n",
        "* ```np.median()```\n",
        "* ```np.min()```\n",
        "* ```np.nanargmax()```\n",
        "* ```np.nanargmin()```\n",
        "* ```np.nancumprod()```\n",
        "* ```np.nancumsum()```\n",
        "* ```np.nanmax()```\n",
        "* ```np.nanmean()```\n",
        "* ```np.nanmedian()```\n",
        "* ```np.nanmin()```\n",
        "* ```np.nanpercentile()```\n",
        "* ```np.nanquantile()```\n",
        "* ```np.nanstd()```\n",
        "* ```np.nansum()```\n",
        "* ```np.nanvar()```\n",
        "* ```np.percentile()```\n",
        "* ```np.quantile()```\n",
        "* ```np.std()```\n",
        "* ```np.var()```\n"
      ],
      "metadata": {
        "id": "eugzXasW-TCO"
      }
    },
    {
      "cell_type": "code",
      "source": [
        "numeros = np.random.randint(0, 256, (3, 2, 4))\n",
        "numeros"
      ],
      "metadata": {
        "colab": {
          "base_uri": "https://localhost:8080/"
        },
        "id": "4Y_tdGR4-uVS",
        "outputId": "ad62d1d6-d400-489e-c649-848265a1192b"
      },
      "execution_count": 58,
      "outputs": [
        {
          "output_type": "execute_result",
          "data": {
            "text/plain": [
              "array([[[ 69, 189, 180, 129],\n",
              "        [ 30, 107, 153, 134]],\n",
              "\n",
              "       [[167,  87,  85, 176],\n",
              "        [225, 102, 250,  35]],\n",
              "\n",
              "       [[ 26,  43, 210, 196],\n",
              "        [212,  44,  71,  15]]])"
            ]
          },
          "metadata": {},
          "execution_count": 58
        }
      ]
    },
    {
      "cell_type": "code",
      "source": [
        "print(np.max(numeros))\n",
        "print(np.mean(numeros))\n",
        "print(np.min(numeros))\n",
        "print(np.median(numeros))"
      ],
      "metadata": {
        "colab": {
          "base_uri": "https://localhost:8080/"
        },
        "id": "saP8SC6h-UU7",
        "outputId": "d20cc41e-0cc6-46be-e39f-9eb6906c067d"
      },
      "execution_count": 61,
      "outputs": [
        {
          "output_type": "stream",
          "name": "stdout",
          "text": [
            "250\n",
            "122.29166666666667\n",
            "15\n",
            "118.0\n"
          ]
        }
      ]
    },
    {
      "cell_type": "code",
      "source": [
        "print(np.nanmax(numeros))\n",
        "print(np.nanmin(numeros))\n",
        "print(np.nanmean(numeros))\n",
        "print(np.nanmedian(numeros))"
      ],
      "metadata": {
        "colab": {
          "base_uri": "https://localhost:8080/"
        },
        "id": "YyycHj94-6y8",
        "outputId": "d616d208-4016-456c-b65b-037e566c55fc"
      },
      "execution_count": 62,
      "outputs": [
        {
          "output_type": "stream",
          "name": "stdout",
          "text": [
            "250\n",
            "15\n",
            "122.29166666666667\n",
            "118.0\n"
          ]
        }
      ]
    },
    {
      "cell_type": "code",
      "source": [
        "np.histogram(numeros)"
      ],
      "metadata": {
        "colab": {
          "base_uri": "https://localhost:8080/"
        },
        "id": "qiuDnmNa_TpP",
        "outputId": "0b7b0d8d-2c78-43e2-f676-bc3e4aa06e4d"
      },
      "execution_count": 63,
      "outputs": [
        {
          "output_type": "execute_result",
          "data": {
            "text/plain": [
              "(array([4, 2, 3, 3, 1, 2, 2, 3, 3, 1]),\n",
              " array([ 15. ,  38.5,  62. ,  85.5, 109. , 132.5, 156. , 179.5, 203. ,\n",
              "        226.5, 250. ]))"
            ]
          },
          "metadata": {},
          "execution_count": 63
        }
      ]
    },
    {
      "cell_type": "code",
      "source": [
        "#Copia y ordenamiento\n",
        "numeros1 = numeros #Alias de un arreglo\n",
        "numeros1 = np.copy(numeros) #Copia del arreglo\n",
        "numeros1"
      ],
      "metadata": {
        "colab": {
          "base_uri": "https://localhost:8080/"
        },
        "id": "3oibV_t8AIxq",
        "outputId": "7b0d51c8-f574-4b22-8428-c33b1a86d941"
      },
      "execution_count": 64,
      "outputs": [
        {
          "output_type": "execute_result",
          "data": {
            "text/plain": [
              "array([[[ 69, 189, 180, 129],\n",
              "        [ 30, 107, 153, 134]],\n",
              "\n",
              "       [[167,  87,  85, 176],\n",
              "        [225, 102, 250,  35]],\n",
              "\n",
              "       [[ 26,  43, 210, 196],\n",
              "        [212,  44,  71,  15]]])"
            ]
          },
          "metadata": {},
          "execution_count": 64
        }
      ]
    },
    {
      "cell_type": "code",
      "source": [
        "numeros1.sort() #Sort sirve para ordenar\n",
        "numeros1"
      ],
      "metadata": {
        "colab": {
          "base_uri": "https://localhost:8080/"
        },
        "id": "EhanCPVdAYhZ",
        "outputId": "cc1f1aa7-1b0a-40d4-dcf9-95c788da6a4f"
      },
      "execution_count": 65,
      "outputs": [
        {
          "output_type": "execute_result",
          "data": {
            "text/plain": [
              "array([[[ 69, 129, 180, 189],\n",
              "        [ 30, 107, 134, 153]],\n",
              "\n",
              "       [[ 85,  87, 167, 176],\n",
              "        [ 35, 102, 225, 250]],\n",
              "\n",
              "       [[ 26,  43, 196, 210],\n",
              "        [ 15,  44,  71, 212]]])"
            ]
          },
          "metadata": {},
          "execution_count": 65
        }
      ]
    },
    {
      "cell_type": "code",
      "source": [
        "numeros1.sort(axis=2) #axis ordena un eje en particular\n",
        "numeros1"
      ],
      "metadata": {
        "colab": {
          "base_uri": "https://localhost:8080/"
        },
        "id": "6erTg9vMAhsO",
        "outputId": "a9b1a16e-a00c-4e64-c5be-30bdc96f50bb"
      },
      "execution_count": 67,
      "outputs": [
        {
          "output_type": "execute_result",
          "data": {
            "text/plain": [
              "array([[[ 30, 107, 134, 153],\n",
              "        [ 69, 129, 180, 189]],\n",
              "\n",
              "       [[ 35,  87, 167, 176],\n",
              "        [ 85, 102, 225, 250]],\n",
              "\n",
              "       [[ 15,  43,  71, 210],\n",
              "        [ 26,  44, 196, 212]]])"
            ]
          },
          "metadata": {},
          "execution_count": 67
        }
      ]
    },
    {
      "cell_type": "code",
      "source": [
        "a = np.array([1,2,3])\n",
        "b = np.array([(1,2,3), (4,5,6)])\n",
        "print(a)\n",
        "print(b)\n",
        "print(np.add(a, b))"
      ],
      "metadata": {
        "colab": {
          "base_uri": "https://localhost:8080/"
        },
        "id": "5sZ8n8NcBfd3",
        "outputId": "13a9ae15-21e9-4f4e-d78f-d47f2eccfcc4"
      },
      "execution_count": 68,
      "outputs": [
        {
          "output_type": "stream",
          "name": "stdout",
          "text": [
            "[1 2 3]\n",
            "[[1 2 3]\n",
            " [4 5 6]]\n",
            "[[2 4 6]\n",
            " [5 7 9]]\n"
          ]
        }
      ]
    },
    {
      "cell_type": "code",
      "source": [
        "#suma tota de los elementos\n",
        "b.sum()"
      ],
      "metadata": {
        "colab": {
          "base_uri": "https://localhost:8080/"
        },
        "id": "-5T-h7wKB2Jl",
        "outputId": "13a3fd63-f74b-405f-c445-7c7adc0b32ac"
      },
      "execution_count": 70,
      "outputs": [
        {
          "output_type": "execute_result",
          "data": {
            "text/plain": [
              "21"
            ]
          },
          "metadata": {},
          "execution_count": 70
        }
      ]
    },
    {
      "cell_type": "code",
      "source": [
        "#Raiz cuadrada\n",
        "np.sqrt(b)"
      ],
      "metadata": {
        "colab": {
          "base_uri": "https://localhost:8080/"
        },
        "id": "TpZ6YbWGCKLR",
        "outputId": "8f87eab6-28c5-4a9f-b547-5a52d409f246"
      },
      "execution_count": 71,
      "outputs": [
        {
          "output_type": "execute_result",
          "data": {
            "text/plain": [
              "array([[1.        , 1.41421356, 1.73205081],\n",
              "       [2.        , 2.23606798, 2.44948974]])"
            ]
          },
          "metadata": {},
          "execution_count": 71
        }
      ]
    },
    {
      "cell_type": "code",
      "source": [
        "#Crear un arreglo con los resultados de una comparación lógica\n",
        "c = b <= 4\n",
        "c"
      ],
      "metadata": {
        "colab": {
          "base_uri": "https://localhost:8080/"
        },
        "id": "Q0yY5CcCCgF6",
        "outputId": "b0c2e16a-0de2-4f7e-bfd1-26942970b27b"
      },
      "execution_count": 72,
      "outputs": [
        {
          "output_type": "execute_result",
          "data": {
            "text/plain": [
              "array([[ True,  True,  True],\n",
              "       [ True, False, False]])"
            ]
          },
          "metadata": {},
          "execution_count": 72
        }
      ]
    }
  ]
}