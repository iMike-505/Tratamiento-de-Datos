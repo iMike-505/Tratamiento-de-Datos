{
  "nbformat": 4,
  "nbformat_minor": 0,
  "metadata": {
    "colab": {
      "name": "02Numpy.ipynb",
      "provenance": [],
      "collapsed_sections": [],
      "authorship_tag": "ABX9TyObqjVoute/OrcTGTxd9kf8",
      "include_colab_link": true
    },
    "kernelspec": {
      "name": "python3",
      "display_name": "Python 3"
    },
    "language_info": {
      "name": "python"
    }
  },
  "cells": [
    {
      "cell_type": "markdown",
      "metadata": {
        "id": "view-in-github",
        "colab_type": "text"
      },
      "source": [
        "<a href=\"https://colab.research.google.com/github/iMike-505/Tratamiento-de-Datos/blob/main/02Numpy.ipynb\" target=\"_parent\"><img src=\"https://colab.research.google.com/assets/colab-badge.svg\" alt=\"Open In Colab\"/></a>"
      ]
    },
    {
      "cell_type": "markdown",
      "source": [
        "# Conceptos básicos de *Numpy*.\n",
        "[*Numpy*](http://www.numpy.org/) es un paquete que contiene una biblioteca de recursos especializados en realizar operaciones optimizadas en arreglos de datos.\n",
        "\n",
        "El proyecto *Numpy* cuenta con una extensa documentación, la cual está disponible en https://docs.scipy.org/doc/numpy/.\n"
      ],
      "metadata": {
        "id": "DFluxPlj2c_u"
      }
    },
    {
      "cell_type": "code",
      "source": [
        "# Instalacion del paquete\n",
        "!pip install numpy"
      ],
      "metadata": {
        "colab": {
          "base_uri": "https://localhost:8080/"
        },
        "id": "iiL61_F92iDN",
        "outputId": "f03acbc1-4ef1-4326-b0e9-1e1e9837fe39"
      },
      "execution_count": null,
      "outputs": [
        {
          "output_type": "stream",
          "name": "stdout",
          "text": [
            "Looking in indexes: https://pypi.org/simple, https://us-python.pkg.dev/colab-wheels/public/simple/\n",
            "Requirement already satisfied: numpy in /usr/local/lib/python3.7/dist-packages (1.21.6)\n"
          ]
        }
      ]
    },
    {
      "cell_type": "code",
      "source": [
        "# Importamos el paquete numpy\n",
        "import numpy as np"
      ],
      "metadata": {
        "id": "lzxn5sN23OqO"
      },
      "execution_count": null,
      "outputs": []
    },
    {
      "cell_type": "code",
      "source": [
        "arreglo = np.array((1,2,3))\n",
        "arreglo"
      ],
      "metadata": {
        "colab": {
          "base_uri": "https://localhost:8080/"
        },
        "id": "atJ3t9mO3gik",
        "outputId": "5d80c623-4720-4d85-cad5-fd71fbf00735"
      },
      "execution_count": null,
      "outputs": [
        {
          "output_type": "execute_result",
          "data": {
            "text/plain": [
              "array([1, 2, 3])"
            ]
          },
          "metadata": {},
          "execution_count": 2
        }
      ]
    },
    {
      "cell_type": "code",
      "source": [
        "type(arreglo)"
      ],
      "metadata": {
        "colab": {
          "base_uri": "https://localhost:8080/"
        },
        "id": "8eIw4xgA4QBm",
        "outputId": "72b952b8-62a4-4dd8-d1a6-318f0d0338b6"
      },
      "execution_count": null,
      "outputs": [
        {
          "output_type": "execute_result",
          "data": {
            "text/plain": [
              "numpy.ndarray"
            ]
          },
          "metadata": {},
          "execution_count": 3
        }
      ]
    },
    {
      "cell_type": "code",
      "source": [
        "for i in arreglo:\n",
        "  print('valor: {}, tipo: {}'. format(i, type(i)))"
      ],
      "metadata": {
        "colab": {
          "base_uri": "https://localhost:8080/"
        },
        "id": "WBANd98FVYQv",
        "outputId": "94337e1c-beb3-4f84-9f21-966e11850edb"
      },
      "execution_count": null,
      "outputs": [
        {
          "output_type": "stream",
          "name": "stdout",
          "text": [
            "valor: 1, tipo: <class 'numpy.int64'>\n",
            "valor: 2, tipo: <class 'numpy.int64'>\n",
            "valor: 3, tipo: <class 'numpy.int64'>\n"
          ]
        }
      ]
    },
    {
      "cell_type": "code",
      "source": [
        "arreglo = np.array((1,2,3.5))\n",
        "print(arreglo)\n",
        "print(type(arreglo))\n",
        "for i in arreglo:\n",
        "  print('valor: {}, tipo: {}'. format(i, type(i)))"
      ],
      "metadata": {
        "colab": {
          "base_uri": "https://localhost:8080/"
        },
        "id": "86KLBD03V3xe",
        "outputId": "822d46d4-a9d3-41f3-af03-829e5fd3bef3"
      },
      "execution_count": null,
      "outputs": [
        {
          "output_type": "stream",
          "name": "stdout",
          "text": [
            "[1.  2.  3.5]\n",
            "<class 'numpy.ndarray'>\n",
            "valor: 1.0, tipo: <class 'numpy.float64'>\n",
            "valor: 2.0, tipo: <class 'numpy.float64'>\n",
            "valor: 3.5, tipo: <class 'numpy.float64'>\n"
          ]
        }
      ]
    },
    {
      "cell_type": "code",
      "source": [
        "arreglo = np.array(['d', 3, (12, 6, True)], dtype = object)\n",
        "for i in arreglo:\n",
        "  print('valor: {}, tipo: {}'. format(i, type(i)))"
      ],
      "metadata": {
        "colab": {
          "base_uri": "https://localhost:8080/"
        },
        "id": "ipKOyjvSWNpU",
        "outputId": "e4a4bed7-e896-4cad-e847-9894c70bc3ae"
      },
      "execution_count": null,
      "outputs": [
        {
          "output_type": "stream",
          "name": "stdout",
          "text": [
            "valor: d, tipo: <class 'str'>\n",
            "valor: 3, tipo: <class 'int'>\n",
            "valor: (12, 6, True), tipo: <class 'tuple'>\n"
          ]
        }
      ]
    },
    {
      "cell_type": "markdown",
      "source": [
        "### El atributo ```shape```.\n",
        "\n",
        "Los arreglos cuentan con el atributo ```shape```, el cual describe el número de elementos que contiene cada dimensión del arreglo.\n",
        "\n",
        "El valor de ```shape``` es un objeto tipo tuple que contiene una sucesión de números.\n",
        "\n",
        "```\n",
        "(<n1>, <n2>, <n3> ... <nm>)\n",
        "```\n",
        "\n",
        "* Donde ```<n1>``` corresponde al número de elementos en la primera dimensión,  ```<n2>``` corresponde al número de elementos en la segunda dimensión y así sucesivamente hasta ```<nm>``` , la cual corrersponde al número de elementos de la dimensión ```m```."
      ],
      "metadata": {
        "id": "CBgl9BhuWe2r"
      }
    },
    {
      "cell_type": "code",
      "source": [
        "# Arreglo unidimensional\n",
        "arreglo = np.array((1,2,3))\n",
        "print(arreglo.ndim) #Numero de dimensiones\n",
        "print(arreglo.shape) #Elementos en cada dimensión\n",
        "print(arreglo.size) #Numero total de elementos del arreglo"
      ],
      "metadata": {
        "colab": {
          "base_uri": "https://localhost:8080/"
        },
        "id": "46cZhwjmWlhe",
        "outputId": "5ee7dd96-40e0-43d5-aa92-73ed3a1ece43"
      },
      "execution_count": null,
      "outputs": [
        {
          "output_type": "stream",
          "name": "stdout",
          "text": [
            "1\n",
            "(3,)\n",
            "3\n"
          ]
        }
      ]
    },
    {
      "cell_type": "code",
      "source": [
        "# Arreglo bidimensional\n",
        "arreglo = np.array([[1, 2, 3],\n",
        "                   [4, 5, 6]])\n",
        "print(arreglo.ndim) #Numero de dimensiones\n",
        "print(arreglo.shape) #Elementos en cada dimensión\n",
        "print(arreglo.size) #Numero total de elementos del arreglo"
      ],
      "metadata": {
        "colab": {
          "base_uri": "https://localhost:8080/"
        },
        "id": "nedNfsqKXLx6",
        "outputId": "a4e3c271-139d-4e6c-aaa8-9fa049231dd3"
      },
      "execution_count": null,
      "outputs": [
        {
          "output_type": "stream",
          "name": "stdout",
          "text": [
            "2\n",
            "(2, 3)\n",
            "6\n"
          ]
        }
      ]
    },
    {
      "cell_type": "code",
      "source": [
        "# Arreglo tridimensional\n",
        "arreglo = np.array([[[1, 2], [3, 4]],\n",
        "                   [[5, 6], [7, 8]]])\n",
        "print(arreglo.ndim) #Numero de dimensiones\n",
        "print(arreglo.shape) #Elementos en cada dimensión\n",
        "print(arreglo.size) #Numero total de elementos del arreglo"
      ],
      "metadata": {
        "colab": {
          "base_uri": "https://localhost:8080/"
        },
        "id": "FhPf1W0WXgfR",
        "outputId": "3e1b564d-6763-4bc7-f9ec-34bd99f48a8c"
      },
      "execution_count": null,
      "outputs": [
        {
          "output_type": "stream",
          "name": "stdout",
          "text": [
            "3\n",
            "(2, 2, 2)\n",
            "8\n"
          ]
        }
      ]
    },
    {
      "cell_type": "code",
      "source": [
        "# Tipo por default\n",
        "np.array(((1, 2), (3, 4))).dtype"
      ],
      "metadata": {
        "colab": {
          "base_uri": "https://localhost:8080/"
        },
        "id": "GSztrg0AX0D6",
        "outputId": "c9044cd2-22e2-4936-bdf2-fbeeca799716"
      },
      "execution_count": null,
      "outputs": [
        {
          "output_type": "execute_result",
          "data": {
            "text/plain": [
              "dtype('int64')"
            ]
          },
          "metadata": {},
          "execution_count": 13
        }
      ]
    },
    {
      "cell_type": "code",
      "source": [
        "np.array(((-1, 2), (3, 4)), dtype = np.uint8)\n"
      ],
      "metadata": {
        "colab": {
          "base_uri": "https://localhost:8080/"
        },
        "id": "JHgyF9uRX-Eu",
        "outputId": "51d53aa6-ffc2-43d6-fb1b-4b2e052250a2"
      },
      "execution_count": null,
      "outputs": [
        {
          "output_type": "execute_result",
          "data": {
            "text/plain": [
              "array([[255,   2],\n",
              "       [  3,   4]], dtype=uint8)"
            ]
          },
          "metadata": {},
          "execution_count": 14
        }
      ]
    },
    {
      "cell_type": "code",
      "source": [
        "np.array(((-1, 2), (3, 4)), dtype = np.uint64)"
      ],
      "metadata": {
        "colab": {
          "base_uri": "https://localhost:8080/"
        },
        "id": "5unNjPMoYLfF",
        "outputId": "206871ca-5fa7-4ecb-b0e2-e0bfa2840066"
      },
      "execution_count": null,
      "outputs": [
        {
          "output_type": "execute_result",
          "data": {
            "text/plain": [
              "array([[18446744073709551615,                    2],\n",
              "       [                   3,                    4]], dtype=uint64)"
            ]
          },
          "metadata": {},
          "execution_count": 15
        }
      ]
    },
    {
      "cell_type": "code",
      "source": [
        "# Complejo\n",
        "complejo = np.array([[25.6j, 11.24],\n",
        "                     [-21.890-15702174.43j, 0]])\n",
        "print(complejo)\n",
        "print(complejo.dtype)"
      ],
      "metadata": {
        "colab": {
          "base_uri": "https://localhost:8080/"
        },
        "id": "pbMduT5QYQPg",
        "outputId": "ff761837-ccf8-4e5f-e58a-e8e61db9bbea"
      },
      "execution_count": null,
      "outputs": [
        {
          "output_type": "stream",
          "name": "stdout",
          "text": [
            "[[  0.  +2.56000000e+01j  11.24+0.00000000e+00j]\n",
            " [-21.89-1.57021744e+07j   0.  +0.00000000e+00j]]\n",
            "complex128\n"
          ]
        }
      ]
    },
    {
      "cell_type": "code",
      "source": [
        "#Arreglo booleano\n",
        "np.array(((1,'Hola'), (False, 0)), dtype = np.bool_)"
      ],
      "metadata": {
        "colab": {
          "base_uri": "https://localhost:8080/"
        },
        "id": "CZab90QXYiSv",
        "outputId": "4bf4781e-c566-4e9e-f94e-93bc9a967b97"
      },
      "execution_count": null,
      "outputs": [
        {
          "output_type": "execute_result",
          "data": {
            "text/plain": [
              "array([[ True,  True],\n",
              "       [False, False]])"
            ]
          },
          "metadata": {},
          "execution_count": 17
        }
      ]
    },
    {
      "cell_type": "code",
      "source": [
        "#Tipo cadena\n",
        "np.array((['Hugo', 'Paco'],['Luis Ignacio', 'Donald']))"
      ],
      "metadata": {
        "colab": {
          "base_uri": "https://localhost:8080/"
        },
        "id": "aORKQC6oYpEJ",
        "outputId": "88b3365b-bb74-476d-cdb1-89408a0efd3e"
      },
      "execution_count": null,
      "outputs": [
        {
          "output_type": "execute_result",
          "data": {
            "text/plain": [
              "array([['Hugo', 'Paco'],\n",
              "       ['Luis Ignacio', 'Donald']], dtype='<U12')"
            ]
          },
          "metadata": {},
          "execution_count": 18
        }
      ]
    }
  ]
}