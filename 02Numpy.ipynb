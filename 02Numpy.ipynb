{
  "nbformat": 4,
  "nbformat_minor": 0,
  "metadata": {
    "colab": {
      "name": "02Numpy.ipynb",
      "provenance": [],
      "collapsed_sections": [],
      "authorship_tag": "ABX9TyN+liYnXAHDEWZAlqWzP8Hf",
      "include_colab_link": true
    },
    "kernelspec": {
      "name": "python3",
      "display_name": "Python 3"
    },
    "language_info": {
      "name": "python"
    }
  },
  "cells": [
    {
      "cell_type": "markdown",
      "metadata": {
        "id": "view-in-github",
        "colab_type": "text"
      },
      "source": [
        "<a href=\"https://colab.research.google.com/github/iMike-505/Tratamiento-de-Datos/blob/main/02Numpy.ipynb\" target=\"_parent\"><img src=\"https://colab.research.google.com/assets/colab-badge.svg\" alt=\"Open In Colab\"/></a>"
      ]
    },
    {
      "cell_type": "markdown",
      "source": [
        "# Conceptos básicos de *Numpy*.\n",
        "[*Numpy*](http://www.numpy.org/) es un paquete que contiene una biblioteca de recursos especializados en realizar operaciones optimizadas en arreglos de datos.\n",
        "\n",
        "El proyecto *Numpy* cuenta con una extensa documentación, la cual está disponible en https://docs.scipy.org/doc/numpy/.\n"
      ],
      "metadata": {
        "id": "DFluxPlj2c_u"
      }
    },
    {
      "cell_type": "code",
      "source": [
        "# Instalacion del paquete\n",
        "!pip install numpy"
      ],
      "metadata": {
        "colab": {
          "base_uri": "https://localhost:8080/"
        },
        "id": "iiL61_F92iDN",
        "outputId": "f03acbc1-4ef1-4326-b0e9-1e1e9837fe39"
      },
      "execution_count": null,
      "outputs": [
        {
          "output_type": "stream",
          "name": "stdout",
          "text": [
            "Looking in indexes: https://pypi.org/simple, https://us-python.pkg.dev/colab-wheels/public/simple/\n",
            "Requirement already satisfied: numpy in /usr/local/lib/python3.7/dist-packages (1.21.6)\n"
          ]
        }
      ]
    },
    {
      "cell_type": "code",
      "source": [
        "# Importamos el paquete numpy\n",
        "import numpy as np"
      ],
      "metadata": {
        "id": "lzxn5sN23OqO"
      },
      "execution_count": 3,
      "outputs": []
    },
    {
      "cell_type": "code",
      "source": [
        "arreglo = np.array((1,2,3))\n",
        "arreglo"
      ],
      "metadata": {
        "colab": {
          "base_uri": "https://localhost:8080/"
        },
        "id": "atJ3t9mO3gik",
        "outputId": "a1a6fc0e-0df5-4216-eb73-0581e76f300d"
      },
      "execution_count": 4,
      "outputs": [
        {
          "output_type": "execute_result",
          "data": {
            "text/plain": [
              "array([1, 2, 3])"
            ]
          },
          "metadata": {},
          "execution_count": 4
        }
      ]
    },
    {
      "cell_type": "code",
      "source": [
        "type(arreglo)"
      ],
      "metadata": {
        "colab": {
          "base_uri": "https://localhost:8080/"
        },
        "id": "8eIw4xgA4QBm",
        "outputId": "370a3206-1cb9-4d5f-fd0d-66a583ff4db3"
      },
      "execution_count": 5,
      "outputs": [
        {
          "output_type": "execute_result",
          "data": {
            "text/plain": [
              "numpy.ndarray"
            ]
          },
          "metadata": {},
          "execution_count": 5
        }
      ]
    },
    {
      "cell_type": "code",
      "source": [
        "for i in arreglo:\n",
        "  print('valor: {}, tipo: {}'. format(i, type(i)))"
      ],
      "metadata": {
        "colab": {
          "base_uri": "https://localhost:8080/"
        },
        "id": "WBANd98FVYQv",
        "outputId": "2fe4de80-5a55-492e-f2a7-43c52feb6709"
      },
      "execution_count": 6,
      "outputs": [
        {
          "output_type": "stream",
          "name": "stdout",
          "text": [
            "valor: 1, tipo: <class 'numpy.int64'>\n",
            "valor: 2, tipo: <class 'numpy.int64'>\n",
            "valor: 3, tipo: <class 'numpy.int64'>\n"
          ]
        }
      ]
    },
    {
      "cell_type": "code",
      "source": [
        "arreglo = np.array((1,2,3.5))\n",
        "print(arreglo)\n",
        "print(type(arreglo))\n",
        "for i in arreglo:\n",
        "  print('valor: {}, tipo: {}'. format(i, type(i)))"
      ],
      "metadata": {
        "colab": {
          "base_uri": "https://localhost:8080/"
        },
        "id": "86KLBD03V3xe",
        "outputId": "e3b0722f-313b-4d74-90a4-00ad9b6d9724"
      },
      "execution_count": 7,
      "outputs": [
        {
          "output_type": "stream",
          "name": "stdout",
          "text": [
            "[1.  2.  3.5]\n",
            "<class 'numpy.ndarray'>\n",
            "valor: 1.0, tipo: <class 'numpy.float64'>\n",
            "valor: 2.0, tipo: <class 'numpy.float64'>\n",
            "valor: 3.5, tipo: <class 'numpy.float64'>\n"
          ]
        }
      ]
    },
    {
      "cell_type": "code",
      "source": [
        "arreglo = np.array(['d', 3, (12, 6, True)], dtype = object)\n",
        "for i in arreglo:\n",
        "  print('valor: {}, tipo: {}'. format(i, type(i)))"
      ],
      "metadata": {
        "colab": {
          "base_uri": "https://localhost:8080/"
        },
        "id": "ipKOyjvSWNpU",
        "outputId": "0a48c1ad-c20f-45ad-ce7f-2d34d043f5f6"
      },
      "execution_count": 8,
      "outputs": [
        {
          "output_type": "stream",
          "name": "stdout",
          "text": [
            "valor: d, tipo: <class 'str'>\n",
            "valor: 3, tipo: <class 'int'>\n",
            "valor: (12, 6, True), tipo: <class 'tuple'>\n"
          ]
        }
      ]
    },
    {
      "cell_type": "markdown",
      "source": [
        "### El atributo ```shape```.\n",
        "\n",
        "Los arreglos cuentan con el atributo ```shape```, el cual describe el número de elementos que contiene cada dimensión del arreglo.\n",
        "\n",
        "El valor de ```shape``` es un objeto tipo tuple que contiene una sucesión de números.\n",
        "\n",
        "```\n",
        "(<n1>, <n2>, <n3> ... <nm>)\n",
        "```\n",
        "\n",
        "* Donde ```<n1>``` corresponde al número de elementos en la primera dimensión,  ```<n2>``` corresponde al número de elementos en la segunda dimensión y así sucesivamente hasta ```<nm>``` , la cual corrersponde al número de elementos de la dimensión ```m```."
      ],
      "metadata": {
        "id": "CBgl9BhuWe2r"
      }
    },
    {
      "cell_type": "code",
      "source": [
        "# Arreglo unidimensional\n",
        "arreglo = np.array((1,2,3))\n",
        "print(arreglo.ndim) #Numero de dimensiones\n",
        "print(arreglo.shape) #Elementos en cada dimensión\n",
        "print(arreglo.size) #Numero total de elementos del arreglo"
      ],
      "metadata": {
        "colab": {
          "base_uri": "https://localhost:8080/"
        },
        "id": "46cZhwjmWlhe",
        "outputId": "96c75e72-e9a4-4f09-b820-d65b29502614"
      },
      "execution_count": 9,
      "outputs": [
        {
          "output_type": "stream",
          "name": "stdout",
          "text": [
            "1\n",
            "(3,)\n",
            "3\n"
          ]
        }
      ]
    },
    {
      "cell_type": "code",
      "source": [
        "# Arreglo bidimensional\n",
        "arreglo = np.array([[1, 2, 3],\n",
        "                   [4, 5, 6]])\n",
        "print(arreglo.ndim) #Numero de dimensiones\n",
        "print(arreglo.shape) #Elementos en cada dimensión\n",
        "print(arreglo.size) #Numero total de elementos del arreglo"
      ],
      "metadata": {
        "colab": {
          "base_uri": "https://localhost:8080/"
        },
        "id": "nedNfsqKXLx6",
        "outputId": "10882330-cbba-43ea-d7ce-a0fe84f8aa71"
      },
      "execution_count": 10,
      "outputs": [
        {
          "output_type": "stream",
          "name": "stdout",
          "text": [
            "2\n",
            "(2, 3)\n",
            "6\n"
          ]
        }
      ]
    },
    {
      "cell_type": "code",
      "source": [
        "# Arreglo tridimensional\n",
        "arreglo = np.array([[[1, 2], [3, 4]],\n",
        "                   [[5, 6], [7, 8]]])\n",
        "print(arreglo.ndim) #Numero de dimensiones\n",
        "print(arreglo.shape) #Elementos en cada dimensión\n",
        "print(arreglo.size) #Numero total de elementos del arreglo"
      ],
      "metadata": {
        "colab": {
          "base_uri": "https://localhost:8080/"
        },
        "id": "FhPf1W0WXgfR",
        "outputId": "1334b7ae-7a23-420e-f832-76c546cd131c"
      },
      "execution_count": 11,
      "outputs": [
        {
          "output_type": "stream",
          "name": "stdout",
          "text": [
            "3\n",
            "(2, 2, 2)\n",
            "8\n"
          ]
        }
      ]
    },
    {
      "cell_type": "code",
      "source": [
        "# Tipo por default\n",
        "np.array(((1, 2), (3, 4))).dtype"
      ],
      "metadata": {
        "colab": {
          "base_uri": "https://localhost:8080/"
        },
        "id": "GSztrg0AX0D6",
        "outputId": "a3f74a48-0fef-4d4e-9b29-e952c31d0ba9"
      },
      "execution_count": 12,
      "outputs": [
        {
          "output_type": "execute_result",
          "data": {
            "text/plain": [
              "dtype('int64')"
            ]
          },
          "metadata": {},
          "execution_count": 12
        }
      ]
    },
    {
      "cell_type": "code",
      "source": [
        "np.array(((-1, 2), (3, 4)), dtype = np.uint8)\n"
      ],
      "metadata": {
        "colab": {
          "base_uri": "https://localhost:8080/"
        },
        "id": "JHgyF9uRX-Eu",
        "outputId": "0713875e-b4e1-4b22-ca2b-398437a007e2"
      },
      "execution_count": 13,
      "outputs": [
        {
          "output_type": "execute_result",
          "data": {
            "text/plain": [
              "array([[255,   2],\n",
              "       [  3,   4]], dtype=uint8)"
            ]
          },
          "metadata": {},
          "execution_count": 13
        }
      ]
    },
    {
      "cell_type": "code",
      "source": [
        "np.array(((-1, 2), (3, 4)), dtype = np.uint64)"
      ],
      "metadata": {
        "colab": {
          "base_uri": "https://localhost:8080/"
        },
        "id": "5unNjPMoYLfF",
        "outputId": "15e5fc63-bbdb-432a-d3d3-7ea7f75db769"
      },
      "execution_count": 14,
      "outputs": [
        {
          "output_type": "execute_result",
          "data": {
            "text/plain": [
              "array([[18446744073709551615,                    2],\n",
              "       [                   3,                    4]], dtype=uint64)"
            ]
          },
          "metadata": {},
          "execution_count": 14
        }
      ]
    },
    {
      "cell_type": "code",
      "source": [
        "# Complejo\n",
        "complejo = np.array([[25.6j, 11.24],\n",
        "                     [-21.890-15702174.43j, 0]])\n",
        "print(complejo)\n",
        "print(complejo.dtype)"
      ],
      "metadata": {
        "colab": {
          "base_uri": "https://localhost:8080/"
        },
        "id": "pbMduT5QYQPg",
        "outputId": "12b90858-b16c-438a-d110-7a9603b130f9"
      },
      "execution_count": 15,
      "outputs": [
        {
          "output_type": "stream",
          "name": "stdout",
          "text": [
            "[[  0.  +2.56000000e+01j  11.24+0.00000000e+00j]\n",
            " [-21.89-1.57021744e+07j   0.  +0.00000000e+00j]]\n",
            "complex128\n"
          ]
        }
      ]
    },
    {
      "cell_type": "code",
      "source": [
        "#Arreglo booleano\n",
        "np.array(((1,'Hola'), (False, 0)), dtype = np.bool_)"
      ],
      "metadata": {
        "colab": {
          "base_uri": "https://localhost:8080/"
        },
        "id": "CZab90QXYiSv",
        "outputId": "bf64e28c-7ba7-41a0-e03b-9628578128dd"
      },
      "execution_count": 16,
      "outputs": [
        {
          "output_type": "execute_result",
          "data": {
            "text/plain": [
              "array([[ True,  True],\n",
              "       [False, False]])"
            ]
          },
          "metadata": {},
          "execution_count": 16
        }
      ]
    },
    {
      "cell_type": "code",
      "source": [
        "#Tipo cadena\n",
        "np.array((['Hugo', 'Paco'],['Luis Ignacio', 'Donald']))"
      ],
      "metadata": {
        "colab": {
          "base_uri": "https://localhost:8080/"
        },
        "id": "aORKQC6oYpEJ",
        "outputId": "312c1953-b130-4c2e-b936-e8e35f2909c7"
      },
      "execution_count": 17,
      "outputs": [
        {
          "output_type": "execute_result",
          "data": {
            "text/plain": [
              "array([['Hugo', 'Paco'],\n",
              "       ['Luis Ignacio', 'Donald']], dtype='<U12')"
            ]
          },
          "metadata": {},
          "execution_count": 17
        }
      ]
    },
    {
      "cell_type": "code",
      "source": [
        "np.array((['Hugo', 'Paco'],['Luis Ignacio', 'Donald']), dtype = np.string_)"
      ],
      "metadata": {
        "colab": {
          "base_uri": "https://localhost:8080/"
        },
        "id": "MCmmT3ZAjmSu",
        "outputId": "a057c279-3df0-47be-feff-b7684ce305a9"
      },
      "execution_count": 18,
      "outputs": [
        {
          "output_type": "execute_result",
          "data": {
            "text/plain": [
              "array([[b'Hugo', b'Paco'],\n",
              "       [b'Luis Ignacio', b'Donald']], dtype='|S12')"
            ]
          },
          "metadata": {},
          "execution_count": 18
        }
      ]
    },
    {
      "cell_type": "code",
      "source": [
        "#Trabajo con fechas\n",
        "from datetime import datetime\n",
        "\n",
        "fechas = np.array([[np.datetime64(\"2019-08-25T23:59:45.231\"), \n",
        "                   np.datetime64(\"2020-07-23\")],\n",
        "                   [np.datetime64(datetime(year=2018, month=12, day=22)),\n",
        "                   np.datetime64(\"2019-03-01T11:25\")]])\n",
        "fechas"
      ],
      "metadata": {
        "colab": {
          "base_uri": "https://localhost:8080/"
        },
        "id": "WqBL5qwrj0gs",
        "outputId": "8ce9964a-c192-4b3a-dc52-d85e8439c4ed"
      },
      "execution_count": 19,
      "outputs": [
        {
          "output_type": "execute_result",
          "data": {
            "text/plain": [
              "array([['2019-08-25T23:59:45.231000', '2020-07-23T00:00:00.000000'],\n",
              "       ['2018-12-22T00:00:00.000000', '2019-03-01T11:25:00.000000']],\n",
              "      dtype='datetime64[us]')"
            ]
          },
          "metadata": {},
          "execution_count": 19
        }
      ]
    },
    {
      "cell_type": "code",
      "source": [
        "#deltatime representa los segundos en un lapso de tiempo\n",
        "\n",
        "np.datetime64(datetime.now()) - fechas"
      ],
      "metadata": {
        "colab": {
          "base_uri": "https://localhost:8080/"
        },
        "id": "AB0AIqKjkorc",
        "outputId": "16951d0d-3d6c-420a-c62c-76891b8e96b9"
      },
      "execution_count": 20,
      "outputs": [
        {
          "output_type": "execute_result",
          "data": {
            "text/plain": [
              "array([[ 89782795563351,  61097980794351],\n",
              "       [111123580794351, 105120880794351]], dtype='timedelta64[us]')"
            ]
          },
          "metadata": {},
          "execution_count": 20
        }
      ]
    },
    {
      "cell_type": "code",
      "source": [
        "a1 = np.array([[[1, 2], [3, 4]],\n",
        "                    [[5, 6], [7, 8]]])\n",
        "\n",
        "a2 = np.array([[[10, 20], [30, 40]],\n",
        "                    [[50, 60], [70, 80]]])\n",
        "\n",
        "print(a1 + a2)\n",
        "print(a1 * 101)"
      ],
      "metadata": {
        "colab": {
          "base_uri": "https://localhost:8080/"
        },
        "id": "Dpx4ce7PmwCW",
        "outputId": "b56c7400-e137-48cc-e450-2787af108140"
      },
      "execution_count": 21,
      "outputs": [
        {
          "output_type": "stream",
          "name": "stdout",
          "text": [
            "[[[11 22]\n",
            "  [33 44]]\n",
            "\n",
            " [[55 66]\n",
            "  [77 88]]]\n",
            "[[[101 202]\n",
            "  [303 404]]\n",
            "\n",
            " [[505 606]\n",
            "  [707 808]]]\n"
          ]
        }
      ]
    },
    {
      "cell_type": "code",
      "source": [
        "a1 = np.array([[[1, 2], [3, 4]],\n",
        "                    [[5, 6], [7, 8]]])\n",
        "\n",
        "a2 = np.array([[[10, 20], [30, 40]],\n",
        "                    [[50, 60], [70, 80]]])\n",
        "\n",
        "a3 = np.array((100,200))\n",
        "\n",
        "print(a1 + a2)\n",
        "print('')\n",
        "print(a1 * 101)\n",
        "print('')\n",
        "print(a1 * a3)"
      ],
      "metadata": {
        "colab": {
          "base_uri": "https://localhost:8080/"
        },
        "id": "klyGAaqxlM7p",
        "outputId": "a1efa95f-fff2-4bfc-ba57-5334cacb8679"
      },
      "execution_count": 22,
      "outputs": [
        {
          "output_type": "stream",
          "name": "stdout",
          "text": [
            "[[[11 22]\n",
            "  [33 44]]\n",
            "\n",
            " [[55 66]\n",
            "  [77 88]]]\n",
            "\n",
            "[[[101 202]\n",
            "  [303 404]]\n",
            "\n",
            " [[505 606]\n",
            "  [707 808]]]\n",
            "\n",
            "[[[ 100  400]\n",
            "  [ 300  800]]\n",
            "\n",
            " [[ 500 1200]\n",
            "  [ 700 1600]]]\n"
          ]
        }
      ]
    },
    {
      "cell_type": "code",
      "source": [
        "#ndarray regresa un arreglo con valores no definidos cercanos a 0\n",
        "np.ndarray((2,2), dtype =float)"
      ],
      "metadata": {
        "colab": {
          "base_uri": "https://localhost:8080/"
        },
        "id": "YOvS0MFbnElb",
        "outputId": "a57be7b0-51d2-4040-e15b-ab77fb5a5807"
      },
      "execution_count": 23,
      "outputs": [
        {
          "output_type": "execute_result",
          "data": {
            "text/plain": [
              "array([[4.43585949e-310, 3.01864133e-310],\n",
              "       [5.49023437e-310, 5.19366159e-310]])"
            ]
          },
          "metadata": {},
          "execution_count": 23
        }
      ]
    },
    {
      "cell_type": "code",
      "source": [
        "np.ndarray((2,2), dtype='>U10')"
      ],
      "metadata": {
        "colab": {
          "base_uri": "https://localhost:8080/"
        },
        "id": "e_uRS8CCnkSV",
        "outputId": "f22822b5-d055-44e6-c9e0-8c961a975a87"
      },
      "execution_count": 24,
      "outputs": [
        {
          "output_type": "execute_result",
          "data": {
            "text/plain": [
              "array([['', ''],\n",
              "       ['', '']], dtype='>U10')"
            ]
          },
          "metadata": {},
          "execution_count": 24
        }
      ]
    },
    {
      "cell_type": "code",
      "source": [
        "#ones genera un arreglo exclusivamente con el numero 1 en cada elemento\n",
        "np.ones((2,5,3,6))"
      ],
      "metadata": {
        "colab": {
          "base_uri": "https://localhost:8080/"
        },
        "id": "Eq2uXoq-n4-O",
        "outputId": "98d3a955-572c-46b5-bb8f-b787fe0bcecf"
      },
      "execution_count": 25,
      "outputs": [
        {
          "output_type": "execute_result",
          "data": {
            "text/plain": [
              "array([[[[1., 1., 1., 1., 1., 1.],\n",
              "         [1., 1., 1., 1., 1., 1.],\n",
              "         [1., 1., 1., 1., 1., 1.]],\n",
              "\n",
              "        [[1., 1., 1., 1., 1., 1.],\n",
              "         [1., 1., 1., 1., 1., 1.],\n",
              "         [1., 1., 1., 1., 1., 1.]],\n",
              "\n",
              "        [[1., 1., 1., 1., 1., 1.],\n",
              "         [1., 1., 1., 1., 1., 1.],\n",
              "         [1., 1., 1., 1., 1., 1.]],\n",
              "\n",
              "        [[1., 1., 1., 1., 1., 1.],\n",
              "         [1., 1., 1., 1., 1., 1.],\n",
              "         [1., 1., 1., 1., 1., 1.]],\n",
              "\n",
              "        [[1., 1., 1., 1., 1., 1.],\n",
              "         [1., 1., 1., 1., 1., 1.],\n",
              "         [1., 1., 1., 1., 1., 1.]]],\n",
              "\n",
              "\n",
              "       [[[1., 1., 1., 1., 1., 1.],\n",
              "         [1., 1., 1., 1., 1., 1.],\n",
              "         [1., 1., 1., 1., 1., 1.]],\n",
              "\n",
              "        [[1., 1., 1., 1., 1., 1.],\n",
              "         [1., 1., 1., 1., 1., 1.],\n",
              "         [1., 1., 1., 1., 1., 1.]],\n",
              "\n",
              "        [[1., 1., 1., 1., 1., 1.],\n",
              "         [1., 1., 1., 1., 1., 1.],\n",
              "         [1., 1., 1., 1., 1., 1.]],\n",
              "\n",
              "        [[1., 1., 1., 1., 1., 1.],\n",
              "         [1., 1., 1., 1., 1., 1.],\n",
              "         [1., 1., 1., 1., 1., 1.]],\n",
              "\n",
              "        [[1., 1., 1., 1., 1., 1.],\n",
              "         [1., 1., 1., 1., 1., 1.],\n",
              "         [1., 1., 1., 1., 1., 1.]]]])"
            ]
          },
          "metadata": {},
          "execution_count": 25
        }
      ]
    },
    {
      "cell_type": "code",
      "source": [
        "#zeros genera un arreglo exclusivamente con el numero 0 en cada elemento\n",
        "np.zeros((2,5,3,6))"
      ],
      "metadata": {
        "colab": {
          "base_uri": "https://localhost:8080/"
        },
        "id": "xwNg-DMjoUHd",
        "outputId": "3e515412-2805-42f1-9fe4-3837f84e905f"
      },
      "execution_count": 26,
      "outputs": [
        {
          "output_type": "execute_result",
          "data": {
            "text/plain": [
              "array([[[[0., 0., 0., 0., 0., 0.],\n",
              "         [0., 0., 0., 0., 0., 0.],\n",
              "         [0., 0., 0., 0., 0., 0.]],\n",
              "\n",
              "        [[0., 0., 0., 0., 0., 0.],\n",
              "         [0., 0., 0., 0., 0., 0.],\n",
              "         [0., 0., 0., 0., 0., 0.]],\n",
              "\n",
              "        [[0., 0., 0., 0., 0., 0.],\n",
              "         [0., 0., 0., 0., 0., 0.],\n",
              "         [0., 0., 0., 0., 0., 0.]],\n",
              "\n",
              "        [[0., 0., 0., 0., 0., 0.],\n",
              "         [0., 0., 0., 0., 0., 0.],\n",
              "         [0., 0., 0., 0., 0., 0.]],\n",
              "\n",
              "        [[0., 0., 0., 0., 0., 0.],\n",
              "         [0., 0., 0., 0., 0., 0.],\n",
              "         [0., 0., 0., 0., 0., 0.]]],\n",
              "\n",
              "\n",
              "       [[[0., 0., 0., 0., 0., 0.],\n",
              "         [0., 0., 0., 0., 0., 0.],\n",
              "         [0., 0., 0., 0., 0., 0.]],\n",
              "\n",
              "        [[0., 0., 0., 0., 0., 0.],\n",
              "         [0., 0., 0., 0., 0., 0.],\n",
              "         [0., 0., 0., 0., 0., 0.]],\n",
              "\n",
              "        [[0., 0., 0., 0., 0., 0.],\n",
              "         [0., 0., 0., 0., 0., 0.],\n",
              "         [0., 0., 0., 0., 0., 0.]],\n",
              "\n",
              "        [[0., 0., 0., 0., 0., 0.],\n",
              "         [0., 0., 0., 0., 0., 0.],\n",
              "         [0., 0., 0., 0., 0., 0.]],\n",
              "\n",
              "        [[0., 0., 0., 0., 0., 0.],\n",
              "         [0., 0., 0., 0., 0., 0.],\n",
              "         [0., 0., 0., 0., 0., 0.]]]])"
            ]
          },
          "metadata": {},
          "execution_count": 26
        }
      ]
    },
    {
      "cell_type": "code",
      "source": [
        "np.zeros((2,2,2), dtype = bool)"
      ],
      "metadata": {
        "colab": {
          "base_uri": "https://localhost:8080/"
        },
        "id": "8BveA_eCrOuN",
        "outputId": "9d0f3c8a-024e-4e77-c37c-1f98648257dd"
      },
      "execution_count": 27,
      "outputs": [
        {
          "output_type": "execute_result",
          "data": {
            "text/plain": [
              "array([[[False, False],\n",
              "        [False, False]],\n",
              "\n",
              "       [[False, False],\n",
              "        [False, False]]])"
            ]
          },
          "metadata": {},
          "execution_count": 27
        }
      ]
    },
    {
      "cell_type": "code",
      "source": [
        "np.ones((2,2,2), dtype = bool)\n",
        "#Es muy necesario cuando se quiere completar algún tipo de elementos"
      ],
      "metadata": {
        "colab": {
          "base_uri": "https://localhost:8080/"
        },
        "id": "xdtEdhCzsEi8",
        "outputId": "a9c67dd1-29eb-44d4-c1cf-24d416923f37"
      },
      "execution_count": 28,
      "outputs": [
        {
          "output_type": "execute_result",
          "data": {
            "text/plain": [
              "array([[[ True,  True],\n",
              "        [ True,  True]],\n",
              "\n",
              "       [[ True,  True],\n",
              "        [ True,  True]]])"
            ]
          },
          "metadata": {},
          "execution_count": 28
        }
      ]
    },
    {
      "cell_type": "code",
      "source": [
        "#empty genera arreglos con calores no inicializados\n",
        "np.empty((2,2,2), dtype=np.int8)"
      ],
      "metadata": {
        "colab": {
          "base_uri": "https://localhost:8080/"
        },
        "id": "7egNHRqBzq_R",
        "outputId": "eddc445e-45d8-4a6d-fe0c-84080c4cdd19"
      },
      "execution_count": 29,
      "outputs": [
        {
          "output_type": "execute_result",
          "data": {
            "text/plain": [
              "array([[[1, 0],\n",
              "        [0, 0]],\n",
              "\n",
              "       [[0, 0],\n",
              "        [0, 0]]], dtype=int8)"
            ]
          },
          "metadata": {},
          "execution_count": 29
        }
      ]
    },
    {
      "cell_type": "code",
      "source": [
        "# arange genera un arreglo unidimensional con valores enteros en un rango\n",
        "np.arange(6, 21)"
      ],
      "metadata": {
        "colab": {
          "base_uri": "https://localhost:8080/"
        },
        "id": "3V5uKa_90IF1",
        "outputId": "c5d22472-d8e8-458a-b8ca-f21fe63a9669"
      },
      "execution_count": 30,
      "outputs": [
        {
          "output_type": "execute_result",
          "data": {
            "text/plain": [
              "array([ 6,  7,  8,  9, 10, 11, 12, 13, 14, 15, 16, 17, 18, 19, 20])"
            ]
          },
          "metadata": {},
          "execution_count": 30
        }
      ]
    },
    {
      "cell_type": "code",
      "source": [
        "# arange(limite inferior, limite superior, salt0)\n",
        "np.arange(-30, 10, 3)"
      ],
      "metadata": {
        "colab": {
          "base_uri": "https://localhost:8080/"
        },
        "id": "ZkRJsfZJ0SuH",
        "outputId": "0c1bb72b-5da7-412e-e7b1-8f8f730414ff"
      },
      "execution_count": 31,
      "outputs": [
        {
          "output_type": "execute_result",
          "data": {
            "text/plain": [
              "array([-30, -27, -24, -21, -18, -15, -12,  -9,  -6,  -3,   0,   3,   6,\n",
              "         9])"
            ]
          },
          "metadata": {},
          "execution_count": 31
        }
      ]
    },
    {
      "cell_type": "code",
      "source": [
        "#linspace genera un arreglo unidimensional con una secuencia lineal de valores dentro de un rango\n",
        "np.linspace(0,8)"
      ],
      "metadata": {
        "colab": {
          "base_uri": "https://localhost:8080/"
        },
        "id": "QZGl2JFzr4E-",
        "outputId": "b6a890ee-7ed7-4d40-fef6-71341de8832e"
      },
      "execution_count": 32,
      "outputs": [
        {
          "output_type": "execute_result",
          "data": {
            "text/plain": [
              "array([0.        , 0.16326531, 0.32653061, 0.48979592, 0.65306122,\n",
              "       0.81632653, 0.97959184, 1.14285714, 1.30612245, 1.46938776,\n",
              "       1.63265306, 1.79591837, 1.95918367, 2.12244898, 2.28571429,\n",
              "       2.44897959, 2.6122449 , 2.7755102 , 2.93877551, 3.10204082,\n",
              "       3.26530612, 3.42857143, 3.59183673, 3.75510204, 3.91836735,\n",
              "       4.08163265, 4.24489796, 4.40816327, 4.57142857, 4.73469388,\n",
              "       4.89795918, 5.06122449, 5.2244898 , 5.3877551 , 5.55102041,\n",
              "       5.71428571, 5.87755102, 6.04081633, 6.20408163, 6.36734694,\n",
              "       6.53061224, 6.69387755, 6.85714286, 7.02040816, 7.18367347,\n",
              "       7.34693878, 7.51020408, 7.67346939, 7.83673469, 8.        ])"
            ]
          },
          "metadata": {},
          "execution_count": 32
        }
      ]
    },
    {
      "cell_type": "code",
      "source": [
        "np.linspace(0,8,num=100)"
      ],
      "metadata": {
        "colab": {
          "base_uri": "https://localhost:8080/"
        },
        "id": "27w5hRo6sYqs",
        "outputId": "7217b496-9a0f-4419-af2f-77133e532525"
      },
      "execution_count": 33,
      "outputs": [
        {
          "output_type": "execute_result",
          "data": {
            "text/plain": [
              "array([0.        , 0.08080808, 0.16161616, 0.24242424, 0.32323232,\n",
              "       0.4040404 , 0.48484848, 0.56565657, 0.64646465, 0.72727273,\n",
              "       0.80808081, 0.88888889, 0.96969697, 1.05050505, 1.13131313,\n",
              "       1.21212121, 1.29292929, 1.37373737, 1.45454545, 1.53535354,\n",
              "       1.61616162, 1.6969697 , 1.77777778, 1.85858586, 1.93939394,\n",
              "       2.02020202, 2.1010101 , 2.18181818, 2.26262626, 2.34343434,\n",
              "       2.42424242, 2.50505051, 2.58585859, 2.66666667, 2.74747475,\n",
              "       2.82828283, 2.90909091, 2.98989899, 3.07070707, 3.15151515,\n",
              "       3.23232323, 3.31313131, 3.39393939, 3.47474747, 3.55555556,\n",
              "       3.63636364, 3.71717172, 3.7979798 , 3.87878788, 3.95959596,\n",
              "       4.04040404, 4.12121212, 4.2020202 , 4.28282828, 4.36363636,\n",
              "       4.44444444, 4.52525253, 4.60606061, 4.68686869, 4.76767677,\n",
              "       4.84848485, 4.92929293, 5.01010101, 5.09090909, 5.17171717,\n",
              "       5.25252525, 5.33333333, 5.41414141, 5.49494949, 5.57575758,\n",
              "       5.65656566, 5.73737374, 5.81818182, 5.8989899 , 5.97979798,\n",
              "       6.06060606, 6.14141414, 6.22222222, 6.3030303 , 6.38383838,\n",
              "       6.46464646, 6.54545455, 6.62626263, 6.70707071, 6.78787879,\n",
              "       6.86868687, 6.94949495, 7.03030303, 7.11111111, 7.19191919,\n",
              "       7.27272727, 7.35353535, 7.43434343, 7.51515152, 7.5959596 ,\n",
              "       7.67676768, 7.75757576, 7.83838384, 7.91919192, 8.        ])"
            ]
          },
          "metadata": {},
          "execution_count": 33
        }
      ]
    },
    {
      "cell_type": "code",
      "source": [
        "#Escribir en un archivo txt\n",
        "arreglo = np.linspace(0,8,num=100)\n",
        "np.savetxt('arreglo.txt', arreglo)"
      ],
      "metadata": {
        "id": "mtaGym2ushRv"
      },
      "execution_count": 34,
      "outputs": []
    },
    {
      "cell_type": "code",
      "source": [
        "#Escribir en un archivo binario\n",
        "np.save('arreglo', arreglo)"
      ],
      "metadata": {
        "id": "qFJWIrGrs8i6"
      },
      "execution_count": 35,
      "outputs": []
    },
    {
      "cell_type": "code",
      "source": [
        "np.save('a1.txt', a1)"
      ],
      "metadata": {
        "id": "ujVdbm4Qt0eJ"
      },
      "execution_count": 40,
      "outputs": []
    },
    {
      "cell_type": "code",
      "source": [
        "#Leer archivo\n",
        "arreglo2 = np.loadtxt('arreglo.txt')\n",
        "arreglo2"
      ],
      "metadata": {
        "colab": {
          "base_uri": "https://localhost:8080/"
        },
        "id": "V7_CHFlgtLf2",
        "outputId": "9f69a487-58f3-40ae-cfb8-272a03307388"
      },
      "execution_count": 36,
      "outputs": [
        {
          "output_type": "execute_result",
          "data": {
            "text/plain": [
              "array([0.        , 0.08080808, 0.16161616, 0.24242424, 0.32323232,\n",
              "       0.4040404 , 0.48484848, 0.56565657, 0.64646465, 0.72727273,\n",
              "       0.80808081, 0.88888889, 0.96969697, 1.05050505, 1.13131313,\n",
              "       1.21212121, 1.29292929, 1.37373737, 1.45454545, 1.53535354,\n",
              "       1.61616162, 1.6969697 , 1.77777778, 1.85858586, 1.93939394,\n",
              "       2.02020202, 2.1010101 , 2.18181818, 2.26262626, 2.34343434,\n",
              "       2.42424242, 2.50505051, 2.58585859, 2.66666667, 2.74747475,\n",
              "       2.82828283, 2.90909091, 2.98989899, 3.07070707, 3.15151515,\n",
              "       3.23232323, 3.31313131, 3.39393939, 3.47474747, 3.55555556,\n",
              "       3.63636364, 3.71717172, 3.7979798 , 3.87878788, 3.95959596,\n",
              "       4.04040404, 4.12121212, 4.2020202 , 4.28282828, 4.36363636,\n",
              "       4.44444444, 4.52525253, 4.60606061, 4.68686869, 4.76767677,\n",
              "       4.84848485, 4.92929293, 5.01010101, 5.09090909, 5.17171717,\n",
              "       5.25252525, 5.33333333, 5.41414141, 5.49494949, 5.57575758,\n",
              "       5.65656566, 5.73737374, 5.81818182, 5.8989899 , 5.97979798,\n",
              "       6.06060606, 6.14141414, 6.22222222, 6.3030303 , 6.38383838,\n",
              "       6.46464646, 6.54545455, 6.62626263, 6.70707071, 6.78787879,\n",
              "       6.86868687, 6.94949495, 7.03030303, 7.11111111, 7.19191919,\n",
              "       7.27272727, 7.35353535, 7.43434343, 7.51515152, 7.5959596 ,\n",
              "       7.67676768, 7.75757576, 7.83838384, 7.91919192, 8.        ])"
            ]
          },
          "metadata": {},
          "execution_count": 36
        }
      ]
    },
    {
      "cell_type": "code",
      "source": [
        "#Listar el contenido de un directorio\n",
        "%ls"
      ],
      "metadata": {
        "colab": {
          "base_uri": "https://localhost:8080/"
        },
        "id": "ZMZjFudBtTkx",
        "outputId": "b8dfbc01-e8a1-4c44-a795-5524123350ce"
      },
      "execution_count": 37,
      "outputs": [
        {
          "output_type": "stream",
          "name": "stdout",
          "text": [
            "arreglo.npy  arreglo.txt  \u001b[0m\u001b[01;34msample_data\u001b[0m/\n"
          ]
        }
      ]
    },
    {
      "cell_type": "code",
      "source": [
        "#Ver el contenido de un archivo\n",
        "%cat arreglo.txt"
      ],
      "metadata": {
        "colab": {
          "base_uri": "https://localhost:8080/"
        },
        "id": "3YvGwmevtpJ4",
        "outputId": "3ceb4829-1610-4c2a-8725-759bc5fa446e"
      },
      "execution_count": 38,
      "outputs": [
        {
          "output_type": "stream",
          "name": "stdout",
          "text": [
            "0.000000000000000000e+00\n",
            "8.080808080808081495e-02\n",
            "1.616161616161616299e-01\n",
            "2.424242424242424310e-01\n",
            "3.232323232323232598e-01\n",
            "4.040404040404040886e-01\n",
            "4.848484848484848619e-01\n",
            "5.656565656565657463e-01\n",
            "6.464646464646465196e-01\n",
            "7.272727272727272929e-01\n",
            "8.080808080808081773e-01\n",
            "8.888888888888889506e-01\n",
            "9.696969696969697239e-01\n",
            "1.050505050505050608e+00\n",
            "1.131313131313131493e+00\n",
            "1.212121212121212155e+00\n",
            "1.292929292929293039e+00\n",
            "1.373737373737373924e+00\n",
            "1.454545454545454586e+00\n",
            "1.535353535353535470e+00\n",
            "1.616161616161616355e+00\n",
            "1.696969696969697017e+00\n",
            "1.777777777777777901e+00\n",
            "1.858585858585858785e+00\n",
            "1.939393939393939448e+00\n",
            "2.020202020202020332e+00\n",
            "2.101010101010101216e+00\n",
            "2.181818181818182101e+00\n",
            "2.262626262626262985e+00\n",
            "2.343434343434343425e+00\n",
            "2.424242424242424310e+00\n",
            "2.505050505050505194e+00\n",
            "2.585858585858586078e+00\n",
            "2.666666666666666963e+00\n",
            "2.747474747474747847e+00\n",
            "2.828282828282828731e+00\n",
            "2.909090909090909172e+00\n",
            "2.989898989898990056e+00\n",
            "3.070707070707070940e+00\n",
            "3.151515151515151825e+00\n",
            "3.232323232323232709e+00\n",
            "3.313131313131313593e+00\n",
            "3.393939393939394034e+00\n",
            "3.474747474747474918e+00\n",
            "3.555555555555555802e+00\n",
            "3.636363636363636687e+00\n",
            "3.717171717171717571e+00\n",
            "3.797979797979798455e+00\n",
            "3.878787878787878896e+00\n",
            "3.959595959595959780e+00\n",
            "4.040404040404040664e+00\n",
            "4.121212121212121993e+00\n",
            "4.202020202020202433e+00\n",
            "4.282828282828282873e+00\n",
            "4.363636363636364202e+00\n",
            "4.444444444444444642e+00\n",
            "4.525252525252525970e+00\n",
            "4.606060606060606410e+00\n",
            "4.686868686868686851e+00\n",
            "4.767676767676768179e+00\n",
            "4.848484848484848619e+00\n",
            "4.929292929292929948e+00\n",
            "5.010101010101010388e+00\n",
            "5.090909090909091717e+00\n",
            "5.171717171717172157e+00\n",
            "5.252525252525252597e+00\n",
            "5.333333333333333925e+00\n",
            "5.414141414141414366e+00\n",
            "5.494949494949495694e+00\n",
            "5.575757575757576134e+00\n",
            "5.656565656565657463e+00\n",
            "5.737373737373737903e+00\n",
            "5.818181818181818343e+00\n",
            "5.898989898989899672e+00\n",
            "5.979797979797980112e+00\n",
            "6.060606060606061440e+00\n",
            "6.141414141414141881e+00\n",
            "6.222222222222222321e+00\n",
            "6.303030303030303649e+00\n",
            "6.383838383838384090e+00\n",
            "6.464646464646465418e+00\n",
            "6.545454545454545858e+00\n",
            "6.626262626262627187e+00\n",
            "6.707070707070707627e+00\n",
            "6.787878787878788067e+00\n",
            "6.868686868686869396e+00\n",
            "6.949494949494949836e+00\n",
            "7.030303030303031164e+00\n",
            "7.111111111111111605e+00\n",
            "7.191919191919192933e+00\n",
            "7.272727272727273373e+00\n",
            "7.353535353535353813e+00\n",
            "7.434343434343435142e+00\n",
            "7.515151515151515582e+00\n",
            "7.595959595959596911e+00\n",
            "7.676767676767677351e+00\n",
            "7.757575757575757791e+00\n",
            "7.838383838383839120e+00\n",
            "7.919191919191919560e+00\n",
            "8.000000000000000000e+00\n"
          ]
        }
      ]
    },
    {
      "cell_type": "code",
      "source": [
        "%cat a1.txt.npy"
      ],
      "metadata": {
        "colab": {
          "base_uri": "https://localhost:8080/"
        },
        "id": "aFSf9NfXuIyp",
        "outputId": "562fa4e6-52df-47e2-f144-e8bf21b3f8bb"
      },
      "execution_count": 41,
      "outputs": [
        {
          "output_type": "stream",
          "name": "stdout",
          "text": [
            "�NUMPY\u0001\u0000v\u0000{'descr': '<i8', 'fortran_order': False, 'shape': (2, 2, 2), }                                                       \n",
            "\u0001\u0000\u0000\u0000\u0000\u0000\u0000\u0000\u0002\u0000\u0000\u0000\u0000\u0000\u0000\u0000\u0003\u0000\u0000\u0000\u0000\u0000\u0000\u0000\u0004\u0000\u0000\u0000\u0000\u0000\u0000\u0000\u0005\u0000\u0000\u0000\u0000\u0000\u0000\u0000\u0006\u0000\u0000\u0000\u0000\u0000\u0000\u0000\u0007\u0000\u0000\u0000\u0000\u0000\u0000\u0000\b\u0000\u0000\u0000\u0000\u0000\u0000\u0000"
          ]
        }
      ]
    },
    {
      "cell_type": "code",
      "source": [
        "np.load('a1.txt.npy')"
      ],
      "metadata": {
        "colab": {
          "base_uri": "https://localhost:8080/"
        },
        "id": "07giZ49fuQck",
        "outputId": "e7fc2f91-e8ba-4f4b-86d6-596f0e29ba2c"
      },
      "execution_count": 42,
      "outputs": [
        {
          "output_type": "execute_result",
          "data": {
            "text/plain": [
              "array([[[1, 2],\n",
              "        [3, 4]],\n",
              "\n",
              "       [[5, 6],\n",
              "        [7, 8]]])"
            ]
          },
          "metadata": {},
          "execution_count": 42
        }
      ]
    },
    {
      "cell_type": "code",
      "source": [
        "#Guardar más de un arreglo en un solo archivo\n",
        "np.savez('arreglos', a1, a2, a3)"
      ],
      "metadata": {
        "id": "rhVdjvMKuWRT"
      },
      "execution_count": 43,
      "outputs": []
    },
    {
      "cell_type": "code",
      "source": [
        "%cat arreglos.npz"
      ],
      "metadata": {
        "colab": {
          "base_uri": "https://localhost:8080/"
        },
        "id": "UashFJCrujTg",
        "outputId": "41de425d-1a71-43b4-ddbd-544fd5e760ec"
      },
      "execution_count": 44,
      "outputs": [
        {
          "output_type": "stream",
          "name": "stdout",
          "text": [
            "PK\u0003\u0004\u0014\u0000\u0000\u0000\u0000\u0000\u0000\u0000!\u0000y�~6�\u0000\u0000\u0000�\u0000\u0000\u0000\t\u0000\u0014\u0000arr_0.npy\u0001\u0000\u0010\u0000�\u0000\u0000\u0000\u0000\u0000\u0000\u0000�\u0000\u0000\u0000\u0000\u0000\u0000\u0000�NUMPY\u0001\u0000v\u0000{'descr': '<i8', 'fortran_order': False, 'shape': (2, 2, 2), }                                                       \n",
            "\u0001\u0000\u0000\u0000\u0000\u0000\u0000\u0000\u0002\u0000\u0000\u0000\u0000\u0000\u0000\u0000\u0003\u0000\u0000\u0000\u0000\u0000\u0000\u0000\u0004\u0000\u0000\u0000\u0000\u0000\u0000\u0000\u0005\u0000\u0000\u0000\u0000\u0000\u0000\u0000\u0006\u0000\u0000\u0000\u0000\u0000\u0000\u0000\u0007\u0000\u0000\u0000\u0000\u0000\u0000\u0000\b\u0000\u0000\u0000\u0000\u0000\u0000\u0000PK\u0003\u0004\u0014\u0000\u0000\u0000\u0000\u0000\u0000\u0000!\u0000�����\u0000\u0000\u0000�\u0000\u0000\u0000\t\u0000\u0014\u0000arr_1.npy\u0001\u0000\u0010\u0000�\u0000\u0000\u0000\u0000\u0000\u0000\u0000�\u0000\u0000\u0000\u0000\u0000\u0000\u0000�NUMPY\u0001\u0000v\u0000{'descr': '<i8', 'fortran_order': False, 'shape': (2, 2, 2), }                                                       \n",
            "\n",
            "\u0000\u0000\u0000\u0000\u0000\u0000\u0000\u0014\u0000\u0000\u0000\u0000\u0000\u0000\u0000\u001e\u0000\u0000\u0000\u0000\u0000\u0000\u0000(\u0000\u0000\u0000\u0000\u0000\u0000\u00002\u0000\u0000\u0000\u0000\u0000\u0000\u0000<\u0000\u0000\u0000\u0000\u0000\u0000\u0000F\u0000\u0000\u0000\u0000\u0000\u0000\u0000P\u0000\u0000\u0000\u0000\u0000\u0000\u0000PK\u0003\u0004\u0014\u0000\u0000\u0000\u0000\u0000\u0000\u0000!\u0000b�bA�\u0000\u0000\u0000�\u0000\u0000\u0000\t\u0000\u0014\u0000arr_2.npy\u0001\u0000\u0010\u0000�\u0000\u0000\u0000\u0000\u0000\u0000\u0000�\u0000\u0000\u0000\u0000\u0000\u0000\u0000�NUMPY\u0001\u0000v\u0000{'descr': '<i8', 'fortran_order': False, 'shape': (2,), }                                                            \n",
            "d\u0000\u0000\u0000\u0000\u0000\u0000\u0000�\u0000\u0000\u0000\u0000\u0000\u0000\u0000PK\u0001\u0002\u0014\u0003\u0014\u0000\u0000\u0000\u0000\u0000\u0000\u0000!\u0000y�~6�\u0000\u0000\u0000�\u0000\u0000\u0000\t\u0000\u0000\u0000\u0000\u0000\u0000\u0000\u0000\u0000\u0000\u0000�\u0001\u0000\u0000\u0000\u0000arr_0.npyPK\u0001\u0002\u0014\u0003\u0014\u0000\u0000\u0000\u0000\u0000\u0000\u0000!\u0000�����\u0000\u0000\u0000�\u0000\u0000\u0000\t\u0000\u0000\u0000\u0000\u0000\u0000\u0000\u0000\u0000\u0000\u0000�\u0001�\u0000\u0000\u0000arr_1.npyPK\u0001\u0002\u0014\u0003\u0014\u0000\u0000\u0000\u0000\u0000\u0000\u0000!\u0000b�bA�\u0000\u0000\u0000�\u0000\u0000\u0000\t\u0000\u0000\u0000\u0000\u0000\u0000\u0000\u0000\u0000\u0000\u0000�\u0001�\u0001\u0000\u0000arr_2.npyPK\u0005\u0006\u0000\u0000\u0000\u0000\u0003\u0000\u0003\u0000�\u0000\u0000\u0000�\u0002\u0000\u0000\u0000\u0000"
          ]
        }
      ]
    },
    {
      "cell_type": "code",
      "source": [
        "#Leer varios arreglos desde un archivo\n",
        "cargados = np.load('arreglos.npz')\n",
        "cargados"
      ],
      "metadata": {
        "colab": {
          "base_uri": "https://localhost:8080/"
        },
        "id": "F2lRneWJuq_Y",
        "outputId": "c1aa5125-7b58-42d4-c740-d86d6d276ba3"
      },
      "execution_count": 45,
      "outputs": [
        {
          "output_type": "execute_result",
          "data": {
            "text/plain": [
              "<numpy.lib.npyio.NpzFile at 0x7ff6559490d0>"
            ]
          },
          "metadata": {},
          "execution_count": 45
        }
      ]
    },
    {
      "cell_type": "code",
      "source": [
        "#Acceder a un arreglo cargado\n",
        "cargados['arr_0']"
      ],
      "metadata": {
        "colab": {
          "base_uri": "https://localhost:8080/"
        },
        "id": "4P6tCf8pu0B_",
        "outputId": "f20dea08-3122-4e83-e7e5-06c31dfb7f85"
      },
      "execution_count": 46,
      "outputs": [
        {
          "output_type": "execute_result",
          "data": {
            "text/plain": [
              "array([[[1, 2],\n",
              "        [3, 4]],\n",
              "\n",
              "       [[5, 6],\n",
              "        [7, 8]]])"
            ]
          },
          "metadata": {},
          "execution_count": 46
        }
      ]
    },
    {
      "cell_type": "code",
      "source": [
        "with cargados as arr:\n",
        "  for i in arr:\n",
        "    print(i, arr[i])"
      ],
      "metadata": {
        "colab": {
          "base_uri": "https://localhost:8080/"
        },
        "id": "i37rJrU5u6AS",
        "outputId": "4b7ed0bd-ff0f-4e84-c141-047f5d9cd3cf"
      },
      "execution_count": 47,
      "outputs": [
        {
          "output_type": "stream",
          "name": "stdout",
          "text": [
            "arr_0 [[[1 2]\n",
            "  [3 4]]\n",
            "\n",
            " [[5 6]\n",
            "  [7 8]]]\n",
            "arr_1 [[[10 20]\n",
            "  [30 40]]\n",
            "\n",
            " [[50 60]\n",
            "  [70 80]]]\n",
            "arr_2 [100 200]\n"
          ]
        }
      ]
    },
    {
      "cell_type": "code",
      "source": [
        "with np.load('arreglos.npz') as arr:\n",
        "  ac3 = arr['arr_2']\n",
        "ac3"
      ],
      "metadata": {
        "colab": {
          "base_uri": "https://localhost:8080/"
        },
        "id": "4OaCSbCIvAak",
        "outputId": "036c11a4-faf8-4f82-9f9d-057a9297f527"
      },
      "execution_count": 49,
      "outputs": [
        {
          "output_type": "execute_result",
          "data": {
            "text/plain": [
              "array([100, 200])"
            ]
          },
          "metadata": {},
          "execution_count": 49
        }
      ]
    },
    {
      "cell_type": "markdown",
      "source": [
        "# Operaciones básicas con arreglos.\n"
      ],
      "metadata": {
        "id": "EUc7AohWvblq"
      }
    },
    {
      "cell_type": "markdown",
      "source": [
        "La siguiente tabla ejemplifica la conformación de las Equipos en una semana dada.\n",
        "\n",
        "\n",
        "||Equipo 1| Equipo 2|\n",
        "|:--:|:---:|:---:|\n",
        "|**Lunes**|Lilia, Antonio, Ricardo|Alonso, Jorge, Salvador|\n",
        "|**Martes**|Mariana, Julian, Ricardo|Arturo, Ramy, Esteban|\n",
        "|**Miércoles**|Arturo, Ricardo, Lucio|Jorge, Marco, Lilia|\n",
        "|**Jueves**|Alonso, Julian, Salvador|Ricardo, Jorge, Esteban|\n",
        "|**Viernes**|Lucio, Ramy, Joaquín|Ricardo, Marco, Lilia|"
      ],
      "metadata": {
        "id": "5G01Bh3HvcXW"
      }
    },
    {
      "cell_type": "code",
      "source": [
        "equipos = np.array([[['Lilia', 'Antonio', 'Ricardo'], ['Alonso', 'Jorge', 'Salvador']],\n",
        "                    [['Mariana', 'Julian', 'Ricardo'], ['Arturo', 'Ramy', 'Esteban']],\n",
        "                    [['Arturo', 'Ricardo', 'Lucio'], ['Jorge', 'Marco', 'Lilia']],\n",
        "                    [['Alonso', 'Julian', 'Salvador'], ['Ricardo', 'Jorge', 'Esteban']],\n",
        "                    [['Lucio', 'Ramy', 'Joaquín'], ['Ricardo', 'Marco', 'Lilia']]])\n"
      ],
      "metadata": {
        "id": "o8OUft0MvbK2"
      },
      "execution_count": 50,
      "outputs": []
    },
    {
      "cell_type": "code",
      "source": [
        "equipos"
      ],
      "metadata": {
        "colab": {
          "base_uri": "https://localhost:8080/"
        },
        "id": "oE_f3qvkvnum",
        "outputId": "5875e7db-6886-43d6-bbfd-6a203a0dfbb2"
      },
      "execution_count": 51,
      "outputs": [
        {
          "output_type": "execute_result",
          "data": {
            "text/plain": [
              "array([[['Lilia', 'Antonio', 'Ricardo'],\n",
              "        ['Alonso', 'Jorge', 'Salvador']],\n",
              "\n",
              "       [['Mariana', 'Julian', 'Ricardo'],\n",
              "        ['Arturo', 'Ramy', 'Esteban']],\n",
              "\n",
              "       [['Arturo', 'Ricardo', 'Lucio'],\n",
              "        ['Jorge', 'Marco', 'Lilia']],\n",
              "\n",
              "       [['Alonso', 'Julian', 'Salvador'],\n",
              "        ['Ricardo', 'Jorge', 'Esteban']],\n",
              "\n",
              "       [['Lucio', 'Ramy', 'Joaquín'],\n",
              "        ['Ricardo', 'Marco', 'Lilia']]], dtype='<U8')"
            ]
          },
          "metadata": {},
          "execution_count": 51
        }
      ]
    },
    {
      "cell_type": "code",
      "source": [
        "print(equipos.ndim)\n",
        "print(equipos.shape)\n",
        "print(equipos.size)"
      ],
      "metadata": {
        "colab": {
          "base_uri": "https://localhost:8080/"
        },
        "id": "sykw6m1Lvsu-",
        "outputId": "76185901-8a47-47f9-fa8a-3a7d4b033c0a"
      },
      "execution_count": 53,
      "outputs": [
        {
          "output_type": "stream",
          "name": "stdout",
          "text": [
            "3\n",
            "(5, 2, 3)\n",
            "30\n"
          ]
        }
      ]
    },
    {
      "cell_type": "code",
      "source": [
        "#Slices de arreglos\n",
        "#Listar los días martes y miercoles de la semana\n",
        "equipos[1:3]"
      ],
      "metadata": {
        "colab": {
          "base_uri": "https://localhost:8080/"
        },
        "id": "g7da4-x9v7gc",
        "outputId": "adea9154-c7e1-4354-ff6f-b52387c444df"
      },
      "execution_count": 54,
      "outputs": [
        {
          "output_type": "execute_result",
          "data": {
            "text/plain": [
              "array([[['Mariana', 'Julian', 'Ricardo'],\n",
              "        ['Arturo', 'Ramy', 'Esteban']],\n",
              "\n",
              "       [['Arturo', 'Ricardo', 'Lucio'],\n",
              "        ['Jorge', 'Marco', 'Lilia']]], dtype='<U8')"
            ]
          },
          "metadata": {},
          "execution_count": 54
        }
      ]
    },
    {
      "cell_type": "code",
      "source": [
        "equipos[1:3].shape"
      ],
      "metadata": {
        "colab": {
          "base_uri": "https://localhost:8080/"
        },
        "id": "Ihb45k8lwOb-",
        "outputId": "1e0d4cdc-d88a-42cf-8aa5-812673312ca3"
      },
      "execution_count": 55,
      "outputs": [
        {
          "output_type": "execute_result",
          "data": {
            "text/plain": [
              "(2, 2, 3)"
            ]
          },
          "metadata": {},
          "execution_count": 55
        }
      ]
    },
    {
      "cell_type": "code",
      "source": [
        "#Ver el equipo 2 de los días martes y miercoles de la semana\n",
        "equipos[1:3, 1]"
      ],
      "metadata": {
        "colab": {
          "base_uri": "https://localhost:8080/"
        },
        "id": "MCsRbPQ2wRlh",
        "outputId": "f2238caf-99ca-498b-db1d-2a6cc59aca8b"
      },
      "execution_count": 56,
      "outputs": [
        {
          "output_type": "execute_result",
          "data": {
            "text/plain": [
              "array([['Arturo', 'Ramy', 'Esteban'],\n",
              "       ['Jorge', 'Marco', 'Lilia']], dtype='<U8')"
            ]
          },
          "metadata": {},
          "execution_count": 56
        }
      ]
    },
    {
      "cell_type": "code",
      "source": [
        "equipos[1:3, 1].shape"
      ],
      "metadata": {
        "colab": {
          "base_uri": "https://localhost:8080/"
        },
        "id": "vSxiwvSXwqop",
        "outputId": "0c752ad0-1c3c-4ceb-dc6d-a12a06174221"
      },
      "execution_count": 57,
      "outputs": [
        {
          "output_type": "execute_result",
          "data": {
            "text/plain": [
              "(2, 3)"
            ]
          },
          "metadata": {},
          "execution_count": 57
        }
      ]
    },
    {
      "cell_type": "code",
      "source": [
        "#Ver los dos primeros integrantes del equipo 2 de los dias lunes y martes\n",
        "equipos[1:3,1, 0:2]"
      ],
      "metadata": {
        "colab": {
          "base_uri": "https://localhost:8080/"
        },
        "id": "n3jSqRjVwu8z",
        "outputId": "d05adaec-57ab-4e16-9f3e-d57deb66a6ac"
      },
      "execution_count": 58,
      "outputs": [
        {
          "output_type": "execute_result",
          "data": {
            "text/plain": [
              "array([['Arturo', 'Ramy'],\n",
              "       ['Jorge', 'Marco']], dtype='<U8')"
            ]
          },
          "metadata": {},
          "execution_count": 58
        }
      ]
    },
    {
      "cell_type": "code",
      "source": [
        "equipos[1:3,1, 0:2].shape"
      ],
      "metadata": {
        "colab": {
          "base_uri": "https://localhost:8080/"
        },
        "id": "_REvCJhLw1j1",
        "outputId": "58679615-fb1f-4a41-9e6a-e4c8d0bf2d20"
      },
      "execution_count": 59,
      "outputs": [
        {
          "output_type": "execute_result",
          "data": {
            "text/plain": [
              "(2, 2)"
            ]
          },
          "metadata": {},
          "execution_count": 59
        }
      ]
    },
    {
      "cell_type": "code",
      "source": [
        "#Ver el tercer integrante del equipo 1 en todos los días \n",
        "equipos[:, 0, 2:3]"
      ],
      "metadata": {
        "colab": {
          "base_uri": "https://localhost:8080/"
        },
        "id": "SUGeYOnLw6Fh",
        "outputId": "baaef82d-cbd8-4122-ae7d-10e8a5c75f57"
      },
      "execution_count": 60,
      "outputs": [
        {
          "output_type": "execute_result",
          "data": {
            "text/plain": [
              "array([['Ricardo'],\n",
              "       ['Ricardo'],\n",
              "       ['Lucio'],\n",
              "       ['Salvador'],\n",
              "       ['Joaquín']], dtype='<U8')"
            ]
          },
          "metadata": {},
          "execution_count": 60
        }
      ]
    },
    {
      "cell_type": "code",
      "source": [
        "#Ver al integrante 3 del equipo 2 del viernes\n",
        "equipos[4, 1, 2]"
      ],
      "metadata": {
        "colab": {
          "base_uri": "https://localhost:8080/",
          "height": 35
        },
        "id": "dn069S5PxVRP",
        "outputId": "31b109bc-ac5b-451f-b232-dd5ad6419279"
      },
      "execution_count": 61,
      "outputs": [
        {
          "output_type": "execute_result",
          "data": {
            "text/plain": [
              "'Lilia'"
            ],
            "application/vnd.google.colaboratory.intrinsic+json": {
              "type": "string"
            }
          },
          "metadata": {},
          "execution_count": 61
        }
      ]
    },
    {
      "cell_type": "code",
      "source": [
        "print(type(equipos[4, 1, 2]))\n",
        "print(equipos[4, 1, 2].shape)\n",
        "print(equipos[4, 1, 2].size)"
      ],
      "metadata": {
        "colab": {
          "base_uri": "https://localhost:8080/"
        },
        "id": "wsaupL9uxnJv",
        "outputId": "d9aee2a6-e5de-4eac-b4ea-a3ac0ccebbb4"
      },
      "execution_count": 62,
      "outputs": [
        {
          "output_type": "stream",
          "name": "stdout",
          "text": [
            "<class 'numpy.str_'>\n",
            "()\n",
            "1\n"
          ]
        }
      ]
    },
    {
      "cell_type": "markdown",
      "source": [
        "####Remplazos\n",
        "|Equipo 1| Equipo 2|\n",
        ":---:|:---:|\n",
        "|Paulina, Rigo, Paul|Kenia, Miguel, Carlos|\n"
      ],
      "metadata": {
        "id": "ZbCfpGUcx8nr"
      }
    },
    {
      "cell_type": "code",
      "source": [
        "remplazos = np.array([['Paulina', 'Rigo', 'Paul'], \n",
        "               ['Kenia', 'Miguel', 'Carlos']])\n",
        "remplazos"
      ],
      "metadata": {
        "colab": {
          "base_uri": "https://localhost:8080/"
        },
        "id": "Lo4KlJB8x8ME",
        "outputId": "b67a385b-208a-4d52-c151-a7bc38b7853e"
      },
      "execution_count": 63,
      "outputs": [
        {
          "output_type": "execute_result",
          "data": {
            "text/plain": [
              "array([['Paulina', 'Rigo', 'Paul'],\n",
              "       ['Kenia', 'Miguel', 'Carlos']], dtype='<U7')"
            ]
          },
          "metadata": {},
          "execution_count": 63
        }
      ]
    },
    {
      "cell_type": "code",
      "source": [
        "remplazos.shape"
      ],
      "metadata": {
        "colab": {
          "base_uri": "https://localhost:8080/"
        },
        "id": "1Q4z_yUdyCzx",
        "outputId": "b8a40f2f-e55a-4053-d1e3-cf0d337c998d"
      },
      "execution_count": 64,
      "outputs": [
        {
          "output_type": "execute_result",
          "data": {
            "text/plain": [
              "(2, 3)"
            ]
          },
          "metadata": {},
          "execution_count": 64
        }
      ]
    },
    {
      "cell_type": "code",
      "source": [
        "equipos[4]"
      ],
      "metadata": {
        "colab": {
          "base_uri": "https://localhost:8080/"
        },
        "id": "PhJcRIsZyHoJ",
        "outputId": "3672373a-7802-4227-f070-59f143dbbbdc"
      },
      "execution_count": 65,
      "outputs": [
        {
          "output_type": "execute_result",
          "data": {
            "text/plain": [
              "array([['Lucio', 'Ramy', 'Joaquín'],\n",
              "       ['Ricardo', 'Marco', 'Lilia']], dtype='<U8')"
            ]
          },
          "metadata": {},
          "execution_count": 65
        }
      ]
    },
    {
      "cell_type": "code",
      "source": [
        "equipos[4].shape"
      ],
      "metadata": {
        "colab": {
          "base_uri": "https://localhost:8080/"
        },
        "id": "NN2fHpb1yLJE",
        "outputId": "656912ec-ce1c-44ed-eeb0-7f78713ed9b6"
      },
      "execution_count": 66,
      "outputs": [
        {
          "output_type": "execute_result",
          "data": {
            "text/plain": [
              "(2, 3)"
            ]
          },
          "metadata": {},
          "execution_count": 66
        }
      ]
    },
    {
      "cell_type": "code",
      "source": [
        "#Caambiar elementos de un arreglo \n",
        "equipos[4] = remplazos\n",
        "equipos"
      ],
      "metadata": {
        "colab": {
          "base_uri": "https://localhost:8080/"
        },
        "id": "mSKmnXrRyP-Q",
        "outputId": "4cc452ce-b8c2-4a84-9973-d2aa1b12f5d1"
      },
      "execution_count": 67,
      "outputs": [
        {
          "output_type": "execute_result",
          "data": {
            "text/plain": [
              "array([[['Lilia', 'Antonio', 'Ricardo'],\n",
              "        ['Alonso', 'Jorge', 'Salvador']],\n",
              "\n",
              "       [['Mariana', 'Julian', 'Ricardo'],\n",
              "        ['Arturo', 'Ramy', 'Esteban']],\n",
              "\n",
              "       [['Arturo', 'Ricardo', 'Lucio'],\n",
              "        ['Jorge', 'Marco', 'Lilia']],\n",
              "\n",
              "       [['Alonso', 'Julian', 'Salvador'],\n",
              "        ['Ricardo', 'Jorge', 'Esteban']],\n",
              "\n",
              "       [['Paulina', 'Rigo', 'Paul'],\n",
              "        ['Kenia', 'Miguel', 'Carlos']]], dtype='<U8')"
            ]
          },
          "metadata": {},
          "execution_count": 67
        }
      ]
    },
    {
      "cell_type": "code",
      "source": [
        "equipos[1:3,1,0]"
      ],
      "metadata": {
        "colab": {
          "base_uri": "https://localhost:8080/"
        },
        "id": "DxkPyKY_ydyn",
        "outputId": "d4f0c25b-9d63-41dc-8705-75c546930ba6"
      },
      "execution_count": 68,
      "outputs": [
        {
          "output_type": "execute_result",
          "data": {
            "text/plain": [
              "array(['Arturo', 'Jorge'], dtype='<U8')"
            ]
          },
          "metadata": {},
          "execution_count": 68
        }
      ]
    },
    {
      "cell_type": "code",
      "source": [
        "#Cambiar dos elementos de un arreglo\n",
        "equipos[2, 0, 0:2] = ['Julio', 'Ernesto']\n",
        "equipos"
      ],
      "metadata": {
        "colab": {
          "base_uri": "https://localhost:8080/"
        },
        "id": "VWUzICH5yfH7",
        "outputId": "c537e84f-2449-48c9-f502-5bc64f8767f9"
      },
      "execution_count": 69,
      "outputs": [
        {
          "output_type": "execute_result",
          "data": {
            "text/plain": [
              "array([[['Lilia', 'Antonio', 'Ricardo'],\n",
              "        ['Alonso', 'Jorge', 'Salvador']],\n",
              "\n",
              "       [['Mariana', 'Julian', 'Ricardo'],\n",
              "        ['Arturo', 'Ramy', 'Esteban']],\n",
              "\n",
              "       [['Julio', 'Ernesto', 'Lucio'],\n",
              "        ['Jorge', 'Marco', 'Lilia']],\n",
              "\n",
              "       [['Alonso', 'Julian', 'Salvador'],\n",
              "        ['Ricardo', 'Jorge', 'Esteban']],\n",
              "\n",
              "       [['Paulina', 'Rigo', 'Paul'],\n",
              "        ['Kenia', 'Miguel', 'Carlos']]], dtype='<U8')"
            ]
          },
          "metadata": {},
          "execution_count": 69
        }
      ]
    },
    {
      "cell_type": "code",
      "source": [
        "#Cambiar un solo elemento\n",
        "equipos[3,1,2] = 'Esmeralda'\n",
        "equipos"
      ],
      "metadata": {
        "colab": {
          "base_uri": "https://localhost:8080/"
        },
        "id": "KzMlrs1ayir7",
        "outputId": "1950a9c8-cb8b-4b9a-fbeb-6cf255fb5733"
      },
      "execution_count": 70,
      "outputs": [
        {
          "output_type": "execute_result",
          "data": {
            "text/plain": [
              "array([[['Lilia', 'Antonio', 'Ricardo'],\n",
              "        ['Alonso', 'Jorge', 'Salvador']],\n",
              "\n",
              "       [['Mariana', 'Julian', 'Ricardo'],\n",
              "        ['Arturo', 'Ramy', 'Esteban']],\n",
              "\n",
              "       [['Julio', 'Ernesto', 'Lucio'],\n",
              "        ['Jorge', 'Marco', 'Lilia']],\n",
              "\n",
              "       [['Alonso', 'Julian', 'Salvador'],\n",
              "        ['Ricardo', 'Jorge', 'Esmerald']],\n",
              "\n",
              "       [['Paulina', 'Rigo', 'Paul'],\n",
              "        ['Kenia', 'Miguel', 'Carlos']]], dtype='<U8')"
            ]
          },
          "metadata": {},
          "execution_count": 70
        }
      ]
    },
    {
      "cell_type": "code",
      "source": [
        "#Es posible identificar elementos de una dimensión usando arreglos como indices\n",
        "idx_1 = np.array([2, 0, 3])\n",
        "print(idx_1)\n",
        "print(equipos[idx_1])\n",
        "print(equipos[idx_1].shape)"
      ],
      "metadata": {
        "colab": {
          "base_uri": "https://localhost:8080/"
        },
        "id": "HbAd17dQyjw3",
        "outputId": "5ed5e6da-8a8f-444b-c81f-6f59833d6def"
      },
      "execution_count": 71,
      "outputs": [
        {
          "output_type": "stream",
          "name": "stdout",
          "text": [
            "[2 0 3]\n",
            "[[['Julio' 'Ernesto' 'Lucio']\n",
            "  ['Jorge' 'Marco' 'Lilia']]\n",
            "\n",
            " [['Lilia' 'Antonio' 'Ricardo']\n",
            "  ['Alonso' 'Jorge' 'Salvador']]\n",
            "\n",
            " [['Alonso' 'Julian' 'Salvador']\n",
            "  ['Ricardo' 'Jorge' 'Esmerald']]]\n",
            "(3, 2, 3)\n"
          ]
        }
      ]
    },
    {
      "cell_type": "code",
      "source": [
        "idx_2 = np.array([[2, 0], [1, 4]])\n",
        "print(idx_2)\n",
        "print(idx_2.shape)\n",
        "print(equipos[idx_2])\n",
        "print(equipos[idx_2].shape)"
      ],
      "metadata": {
        "colab": {
          "base_uri": "https://localhost:8080/"
        },
        "id": "HzIEFna4yj_s",
        "outputId": "cf367530-29f3-4012-d532-60c2b1604d0a"
      },
      "execution_count": 72,
      "outputs": [
        {
          "output_type": "stream",
          "name": "stdout",
          "text": [
            "[[2 0]\n",
            " [1 4]]\n",
            "(2, 2)\n",
            "[[[['Julio' 'Ernesto' 'Lucio']\n",
            "   ['Jorge' 'Marco' 'Lilia']]\n",
            "\n",
            "  [['Lilia' 'Antonio' 'Ricardo']\n",
            "   ['Alonso' 'Jorge' 'Salvador']]]\n",
            "\n",
            "\n",
            " [[['Mariana' 'Julian' 'Ricardo']\n",
            "   ['Arturo' 'Ramy' 'Esteban']]\n",
            "\n",
            "  [['Paulina' 'Rigo' 'Paul']\n",
            "   ['Kenia' 'Miguel' 'Carlos']]]]\n",
            "(2, 2, 2, 3)\n"
          ]
        }
      ]
    },
    {
      "cell_type": "code",
      "source": [
        "#Uso de multiples arreglos como indices\n",
        "idx_x = np.array([0, 2]) #Lunes y miercoles\n",
        "idx_y = np.array([0, 1]) #Equipo 1 y 2\n",
        "equipos[idx_x, idx_y]"
      ],
      "metadata": {
        "colab": {
          "base_uri": "https://localhost:8080/"
        },
        "id": "RKqJXTpoykNd",
        "outputId": "a8f5f557-8288-44e7-f204-b46e373208d3"
      },
      "execution_count": 73,
      "outputs": [
        {
          "output_type": "execute_result",
          "data": {
            "text/plain": [
              "array([['Lilia', 'Antonio', 'Ricardo'],\n",
              "       ['Jorge', 'Marco', 'Lilia']], dtype='<U8')"
            ]
          },
          "metadata": {},
          "execution_count": 73
        }
      ]
    },
    {
      "cell_type": "markdown",
      "source": [
        "## 'Broadcasting'\n"
      ],
      "metadata": {
        "id": "GszcbpJwy2Hu"
      }
    },
    {
      "cell_type": "code",
      "source": [
        "equipos"
      ],
      "metadata": {
        "colab": {
          "base_uri": "https://localhost:8080/"
        },
        "id": "lrjpylg2ykeY",
        "outputId": "ddd71def-6846-4491-c1d2-6d379e3a805f"
      },
      "execution_count": 74,
      "outputs": [
        {
          "output_type": "execute_result",
          "data": {
            "text/plain": [
              "array([[['Lilia', 'Antonio', 'Ricardo'],\n",
              "        ['Alonso', 'Jorge', 'Salvador']],\n",
              "\n",
              "       [['Mariana', 'Julian', 'Ricardo'],\n",
              "        ['Arturo', 'Ramy', 'Esteban']],\n",
              "\n",
              "       [['Julio', 'Ernesto', 'Lucio'],\n",
              "        ['Jorge', 'Marco', 'Lilia']],\n",
              "\n",
              "       [['Alonso', 'Julian', 'Salvador'],\n",
              "        ['Ricardo', 'Jorge', 'Esmerald']],\n",
              "\n",
              "       [['Paulina', 'Rigo', 'Paul'],\n",
              "        ['Kenia', 'Miguel', 'Carlos']]], dtype='<U8')"
            ]
          },
          "metadata": {},
          "execution_count": 74
        }
      ]
    },
    {
      "cell_type": "code",
      "source": [
        "#Un mismo valor para todos los elementos del arraglo\n",
        "equipos[4, 0] = 'Fabian'\n",
        "equipos"
      ],
      "metadata": {
        "colab": {
          "base_uri": "https://localhost:8080/"
        },
        "id": "ofmnHmBmy708",
        "outputId": "310dffa6-c854-479f-dced-7f4b640bfa82"
      },
      "execution_count": 75,
      "outputs": [
        {
          "output_type": "execute_result",
          "data": {
            "text/plain": [
              "array([[['Lilia', 'Antonio', 'Ricardo'],\n",
              "        ['Alonso', 'Jorge', 'Salvador']],\n",
              "\n",
              "       [['Mariana', 'Julian', 'Ricardo'],\n",
              "        ['Arturo', 'Ramy', 'Esteban']],\n",
              "\n",
              "       [['Julio', 'Ernesto', 'Lucio'],\n",
              "        ['Jorge', 'Marco', 'Lilia']],\n",
              "\n",
              "       [['Alonso', 'Julian', 'Salvador'],\n",
              "        ['Ricardo', 'Jorge', 'Esmerald']],\n",
              "\n",
              "       [['Fabian', 'Fabian', 'Fabian'],\n",
              "        ['Kenia', 'Miguel', 'Carlos']]], dtype='<U8')"
            ]
          },
          "metadata": {},
          "execution_count": 75
        }
      ]
    },
    {
      "cell_type": "code",
      "source": [
        "#Un mismo arreglo para todos los elementos de la dimensión\n",
        "equipos[2] = np.array(['Hugo', 'Paco', 'Luis'])\n",
        "equipos[2].shape\n",
        "equipos"
      ],
      "metadata": {
        "colab": {
          "base_uri": "https://localhost:8080/"
        },
        "id": "2ia_qRIAy-Qs",
        "outputId": "20a78ebd-2286-4eb3-f93f-78ba80748ac9"
      },
      "execution_count": 76,
      "outputs": [
        {
          "output_type": "execute_result",
          "data": {
            "text/plain": [
              "array([[['Lilia', 'Antonio', 'Ricardo'],\n",
              "        ['Alonso', 'Jorge', 'Salvador']],\n",
              "\n",
              "       [['Mariana', 'Julian', 'Ricardo'],\n",
              "        ['Arturo', 'Ramy', 'Esteban']],\n",
              "\n",
              "       [['Hugo', 'Paco', 'Luis'],\n",
              "        ['Hugo', 'Paco', 'Luis']],\n",
              "\n",
              "       [['Alonso', 'Julian', 'Salvador'],\n",
              "        ['Ricardo', 'Jorge', 'Esmerald']],\n",
              "\n",
              "       [['Fabian', 'Fabian', 'Fabian'],\n",
              "        ['Kenia', 'Miguel', 'Carlos']]], dtype='<U8')"
            ]
          },
          "metadata": {},
          "execution_count": 76
        }
      ]
    }
  ]
}