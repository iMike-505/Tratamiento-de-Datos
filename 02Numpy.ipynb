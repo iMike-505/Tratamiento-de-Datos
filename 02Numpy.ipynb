{
  "nbformat": 4,
  "nbformat_minor": 0,
  "metadata": {
    "colab": {
      "name": "02Numpy.ipynb",
      "provenance": [],
      "collapsed_sections": [],
      "authorship_tag": "ABX9TyMOqXP6EAdsiSaqdWKZu4F4",
      "include_colab_link": true
    },
    "kernelspec": {
      "name": "python3",
      "display_name": "Python 3"
    },
    "language_info": {
      "name": "python"
    }
  },
  "cells": [
    {
      "cell_type": "markdown",
      "metadata": {
        "id": "view-in-github",
        "colab_type": "text"
      },
      "source": [
        "<a href=\"https://colab.research.google.com/github/iMike-505/Tratamiento-de-Datos/blob/main/02Numpy.ipynb\" target=\"_parent\"><img src=\"https://colab.research.google.com/assets/colab-badge.svg\" alt=\"Open In Colab\"/></a>"
      ]
    },
    {
      "cell_type": "markdown",
      "source": [
        "# Conceptos básicos de *Numpy*.\n",
        "[*Numpy*](http://www.numpy.org/) es un paquete que contiene una biblioteca de recursos especializados en realizar operaciones optimizadas en arreglos de datos.\n",
        "\n",
        "El proyecto *Numpy* cuenta con una extensa documentación, la cual está disponible en https://docs.scipy.org/doc/numpy/.\n"
      ],
      "metadata": {
        "id": "DFluxPlj2c_u"
      }
    },
    {
      "cell_type": "code",
      "source": [
        "# Instalacion del paquete\n",
        "!pip install numpy"
      ],
      "metadata": {
        "colab": {
          "base_uri": "https://localhost:8080/"
        },
        "id": "iiL61_F92iDN",
        "outputId": "f03acbc1-4ef1-4326-b0e9-1e1e9837fe39"
      },
      "execution_count": null,
      "outputs": [
        {
          "output_type": "stream",
          "name": "stdout",
          "text": [
            "Looking in indexes: https://pypi.org/simple, https://us-python.pkg.dev/colab-wheels/public/simple/\n",
            "Requirement already satisfied: numpy in /usr/local/lib/python3.7/dist-packages (1.21.6)\n"
          ]
        }
      ]
    },
    {
      "cell_type": "code",
      "source": [
        "# Importamos el paquete numpy\n",
        "import numpy as np"
      ],
      "metadata": {
        "id": "lzxn5sN23OqO"
      },
      "execution_count": null,
      "outputs": []
    },
    {
      "cell_type": "code",
      "source": [
        "arreglo = np.array((1,2,3))\n",
        "arreglo"
      ],
      "metadata": {
        "colab": {
          "base_uri": "https://localhost:8080/"
        },
        "id": "atJ3t9mO3gik",
        "outputId": "faffa3ff-c96c-4c1e-efd6-d5ca4a3e3137"
      },
      "execution_count": null,
      "outputs": [
        {
          "output_type": "execute_result",
          "data": {
            "text/plain": [
              "array([1, 2, 3])"
            ]
          },
          "metadata": {},
          "execution_count": 12
        }
      ]
    },
    {
      "cell_type": "code",
      "source": [
        "type(arreglo)"
      ],
      "metadata": {
        "colab": {
          "base_uri": "https://localhost:8080/"
        },
        "id": "8eIw4xgA4QBm",
        "outputId": "87509a74-2b2b-4b9e-89b5-ebc911ce64fe"
      },
      "execution_count": null,
      "outputs": [
        {
          "output_type": "execute_result",
          "data": {
            "text/plain": [
              "numpy.ndarray"
            ]
          },
          "metadata": {},
          "execution_count": 13
        }
      ]
    }
  ]
}