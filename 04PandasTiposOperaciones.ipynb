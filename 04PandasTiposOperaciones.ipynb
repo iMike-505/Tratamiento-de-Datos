{
  "nbformat": 4,
  "nbformat_minor": 0,
  "metadata": {
    "colab": {
      "name": "04PandasTiposOperaciones.ipynb",
      "provenance": [],
      "collapsed_sections": [],
      "authorship_tag": "ABX9TyNYFnsh8dZE5PAUiLKFA1xv",
      "include_colab_link": true
    },
    "kernelspec": {
      "name": "python3",
      "display_name": "Python 3"
    },
    "language_info": {
      "name": "python"
    }
  },
  "cells": [
    {
      "cell_type": "markdown",
      "metadata": {
        "id": "view-in-github",
        "colab_type": "text"
      },
      "source": [
        "<a href=\"https://colab.research.google.com/github/iMike-505/Tratamiento-de-Datos/blob/main/04PandasTiposOperaciones.ipynb\" target=\"_parent\"><img src=\"https://colab.research.google.com/assets/colab-badge.svg\" alt=\"Open In Colab\"/></a>"
      ]
    },
    {
      "cell_type": "code",
      "execution_count": null,
      "metadata": {
        "id": "f-AcRCqqKbaq"
      },
      "outputs": [],
      "source": [
        "#Debe existir por lo menos un indice valido en la tupla de parametro\n",
        "#Si se repite el indice en la tupla se repite el renglon en el eresultado\n",
        "#Si existe un indice valido y un indice invalido el renglón de este ultimo se lena con NaN\n",
        "# Si no existe un indice valido en la tupla genera un error\n"
      ]
    },
    {
      "cell_type": "code",
      "source": [
        "datos.info()"
      ],
      "metadata": {
        "id": "lwZphr-_LE7x"
      },
      "execution_count": null,
      "outputs": []
    },
    {
      "cell_type": "markdown",
      "source": [
        "### El método ```iloc[ ]```.\n",
        "\n",
        "El método ```iloc[ ]``` permite identificar a uno o más elemento dentro de un renglón de un dataframe utilizando números enteros para referenciar tanto al índice como a las columnas.\n",
        "\n",
        "```\n",
        "<df>.iloc[<índice>,[<col 1>, <col 2>, ... <col n>]]\n",
        "```\n",
        "\n"
      ],
      "metadata": {
        "id": "3jtbVDCuLaP8"
      }
    },
    {
      "cell_type": "code",
      "source": [
        "datos = pd.DataFrame(np.arange(20).reshape(5, 4), \n",
        "                     columns=('primero', 'segundo', 'tercero', 'cuarto'))\n",
        "datos"
      ],
      "metadata": {
        "id": "K8VIgP8vLOJ2"
      },
      "execution_count": null,
      "outputs": []
    },
    {
      "cell_type": "code",
      "source": [
        "datos.iloc[2, [3]]"
      ],
      "metadata": {
        "id": "NOO3k-INMHnG"
      },
      "execution_count": null,
      "outputs": []
    },
    {
      "cell_type": "code",
      "source": [
        "type(datos.iloc[2, [3]])"
      ],
      "metadata": {
        "id": "xKKJon8PMOA_"
      },
      "execution_count": null,
      "outputs": []
    },
    {
      "cell_type": "code",
      "source": [
        "datos.iloc[2, [2, 1, 3]]"
      ],
      "metadata": {
        "id": "uSrmQf0qMUTH"
      },
      "execution_count": null,
      "outputs": []
    },
    {
      "cell_type": "code",
      "source": [
        "type(datos.iloc[2, [2, 1, 3]])"
      ],
      "metadata": {
        "id": "Dud66R35Mg-L"
      },
      "execution_count": null,
      "outputs": []
    },
    {
      "cell_type": "code",
      "source": [
        "datos.iloc[2]"
      ],
      "metadata": {
        "id": "bkT-A0OWMmjn"
      },
      "execution_count": null,
      "outputs": []
    },
    {
      "cell_type": "code",
      "source": [
        "datos.iloc[2, 3 [2, 1, 3]] #Error, no se puede obtener más de un renglón con iloc"
      ],
      "metadata": {
        "id": "LVtEKGg9MvsQ"
      },
      "execution_count": null,
      "outputs": []
    },
    {
      "cell_type": "markdown",
      "source": [
        "### El método ```loc[ ]```.\n",
        "permite identificar a uno o más elemento dentro de un renglón de un dataframe utilizando los identificadores para referenciar tanto al índice como a las columnas.\n",
        "\n",
        "```\n",
        "<df>.loc[<id_índice>,[<id_col 1>, <id_col 2>, ... <id_col n>]\n",
        "```\n"
      ],
      "metadata": {
        "id": "pukZX5hMM-l5"
      }
    },
    {
      "cell_type": "code",
      "source": [
        "indice = ['gerente', 'supervisor', 'vendedor', 'cajero']\n",
        "datos = pd.DataFrame({'nombres':('Carlos Ayala', \n",
        "                                    'Martha Sánchez', \n",
        "                                    'Jimena Ríos', \n",
        "                                    'Raul Quiroz'),\n",
        "            'fechas':(dt.datetime(1995,12,21), \n",
        "                      dt.datetime(1989,1,13), \n",
        "                      dt.datetime(1992,9,14), \n",
        "                      dt.datetime(1993,7,8)),\n",
        "            'saldo': (3600, \n",
        "                      7452, \n",
        "                      np.NaN, \n",
        "                      12143.5),\n",
        "            'al corriente':(True, \n",
        "                            True, \n",
        "                            False, \n",
        "                            True)}, \n",
        "            index=indice)\n",
        "\n",
        "datos"
      ],
      "metadata": {
        "id": "xicGomJhM_Ht"
      },
      "execution_count": null,
      "outputs": []
    },
    {
      "cell_type": "code",
      "source": [
        "datos.loc[\"supervisor\", [\"fechas\"]]"
      ],
      "metadata": {
        "id": "g0-USI6WNrBa"
      },
      "execution_count": null,
      "outputs": []
    },
    {
      "cell_type": "code",
      "source": [
        "datos.loc[\"supervisor\", [\"fechas\", \"nombres\"]]"
      ],
      "metadata": {
        "id": "SlSam__pOHZZ"
      },
      "execution_count": null,
      "outputs": []
    },
    {
      "cell_type": "code",
      "source": [
        "datos.loc[1, [\"fechas\", \"nombres\"]]#No se puede usar el numero de indice (renglón), ya que genera error"
      ],
      "metadata": {
        "id": "sEM2P2bIOMgw"
      },
      "execution_count": null,
      "outputs": []
    },
    {
      "cell_type": "code",
      "source": [
        "datos"
      ],
      "metadata": {
        "id": "dSGk9B1_ObYD"
      },
      "execution_count": null,
      "outputs": []
    },
    {
      "cell_type": "code",
      "source": [
        "#Utilizar expresiones lógicas en loc[]\n",
        "datos[\"saldo\"] > 3000"
      ],
      "metadata": {
        "id": "JgEMF9GYOcMZ"
      },
      "execution_count": null,
      "outputs": []
    },
    {
      "cell_type": "code",
      "source": [
        "datos.loc[datos[\"saldo\"]] > 3000"
      ],
      "metadata": {
        "id": "vF32oSNnPi9G"
      },
      "execution_count": null,
      "outputs": []
    },
    {
      "cell_type": "code",
      "source": [
        "datos.loc[datos[\"al corriente\"]]"
      ],
      "metadata": {
        "id": "uqtaO9h0P6WT"
      },
      "execution_count": null,
      "outputs": []
    },
    {
      "cell_type": "code",
      "source": [
        "datos.loc[datos[\"al corriente\"] == False]"
      ],
      "metadata": {
        "id": "sOIXVD-iP-wz"
      },
      "execution_count": null,
      "outputs": []
    },
    {
      "cell_type": "code",
      "source": [
        "datos.loc[datos[\"al corriente\"] ==False, [\"fechas\", \"nombres\"]]"
      ],
      "metadata": {
        "id": "u21yVnluQVo9"
      },
      "execution_count": null,
      "outputs": []
    },
    {
      "cell_type": "code",
      "source": [
        "datos"
      ],
      "metadata": {
        "id": "NKqH0VPxRGlG"
      },
      "execution_count": null,
      "outputs": []
    },
    {
      "cell_type": "code",
      "source": [
        "#iat[] regresa un elemento localizando en un indice y columna especifica\n",
        "datos.iat[2,2]"
      ],
      "metadata": {
        "id": "t9wMZVrvQ7Yi"
      },
      "execution_count": null,
      "outputs": []
    },
    {
      "cell_type": "code",
      "source": [
        "type(datos.iat[2,2])"
      ],
      "metadata": {
        "id": "hCPMp6JkRS0x"
      },
      "execution_count": null,
      "outputs": []
    },
    {
      "cell_type": "code",
      "source": [
        "#iat[] regresa un elemento localizado en un indice y columna especifica por nombre\n",
        "datos.at[\"vendedor\", \"saldo\"]"
      ],
      "metadata": {
        "id": "Tx3NewmPRWIp"
      },
      "execution_count": null,
      "outputs": []
    },
    {
      "cell_type": "code",
      "source": [
        "type(datos.at[\"vendedor\", \"saldo\"])"
      ],
      "metadata": {
        "id": "HX_hO0AgRiRU"
      },
      "execution_count": null,
      "outputs": []
    }
  ]
}