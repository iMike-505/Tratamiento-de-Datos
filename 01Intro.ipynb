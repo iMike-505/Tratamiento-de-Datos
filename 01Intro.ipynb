{
  "cells": [
    {
      "cell_type": "markdown",
      "metadata": {
        "id": "view-in-github",
        "colab_type": "text"
      },
      "source": [
        "<a href=\"https://colab.research.google.com/github/iMike-505/Tratamiento-de-Datos/blob/main/01Intro.ipynb\" target=\"_parent\"><img src=\"https://colab.research.google.com/assets/colab-badge.svg\" alt=\"Open In Colab\"/></a>"
      ]
    },
    {
      "cell_type": "code",
      "execution_count": null,
      "metadata": {
        "id": "SbnSq4ifhYbj"
      },
      "outputs": [],
      "source": [
        ""
      ]
    },
    {
      "cell_type": "markdown",
      "metadata": {
        "id": "WyHR6s22hsot"
      },
      "source": [
        "**Tratamiento de Datos con Python**\n",
        "\n",
        "[*FES Aragón*](https://www.aragon.unam.mx/fes-aragon/#!/inicio)\n",
        "\n",
        "## Curso Intersemestral\n",
        "## ICO\n",
        "## Tratamiento de Datos\n",
        "\n"
      ]
    },
    {
      "cell_type": "code",
      "execution_count": 3,
      "metadata": {
        "colab": {
          "base_uri": "https://localhost:8080/"
        },
        "id": "11fOx8TgitGN",
        "outputId": "e62f3fc9-18ff-4595-cdc8-292fa26752f3"
      },
      "outputs": [
        {
          "output_type": "stream",
          "name": "stdout",
          "text": [
            "0 1\n",
            "1\n",
            "2\n",
            "3\n",
            "5\n",
            "8\n",
            "13\n",
            "21\n",
            "34\n",
            "55\n",
            "89\n",
            "144\n",
            "233\n"
          ]
        }
      ],
      "source": [
        "# Serie de Fibonacci\n",
        "a = 0\n",
        "b = 1\n",
        "print(a, b)\n",
        "\n",
        "for _ in range(12):\n",
        "  r = a + b\n",
        "  a = b\n",
        "  b = r\n",
        "  print(r)"
      ]
    },
    {
      "cell_type": "code",
      "execution_count": 4,
      "metadata": {
        "colab": {
          "base_uri": "https://localhost:8080/"
        },
        "id": "I2-MXL0mjvo0",
        "outputId": "d8cf0e5a-b200-4322-8ffd-feee9b840afd"
      },
      "outputs": [
        {
          "output_type": "stream",
          "name": "stdout",
          "text": [
            "D\n",
            "a\n",
            "t\n"
          ]
        }
      ],
      "source": [
        "palabra = 'Datos'\n",
        "for letra in palabra: #Contar la palabra letra por letra\n",
        "  print(letra)\n",
        "  if letra == 't': #Termina el proceso si se encuentra con una 't'\n",
        "    break"
      ]
    },
    {
      "cell_type": "code",
      "execution_count": 5,
      "metadata": {
        "colab": {
          "base_uri": "https://localhost:8080/"
        },
        "id": "MjvDT1TlkP6x",
        "outputId": "ac76594c-9d16-4a84-bf93-67f7a1ae9fbb"
      },
      "outputs": [
        {
          "output_type": "stream",
          "name": "stdout",
          "text": [
            "Tabla del 1:\n",
            "1 * 1 = 1\n",
            "1 * 2 = 2\n",
            "1 * 3 = 3\n",
            "1 * 4 = 4\n",
            "1 * 5 = 5\n",
            "1 * 6 = 6\n",
            "1 * 7 = 7\n",
            "1 * 8 = 8\n",
            "1 * 9 = 9\n",
            "1 * 10 = 10\n",
            " \n",
            "Tabla del 2:\n",
            "2 * 1 = 2\n",
            "2 * 2 = 4\n",
            "2 * 3 = 6\n",
            "2 * 4 = 8\n",
            "2 * 5 = 10\n",
            "2 * 6 = 12\n",
            "2 * 7 = 14\n",
            "2 * 8 = 16\n",
            "2 * 9 = 18\n",
            "2 * 10 = 20\n",
            " \n",
            "Tabla del 3:\n",
            "3 * 1 = 3\n",
            "3 * 2 = 6\n",
            "3 * 3 = 9\n",
            "3 * 4 = 12\n",
            "3 * 5 = 15\n",
            "3 * 6 = 18\n",
            "3 * 7 = 21\n",
            "3 * 8 = 24\n",
            "3 * 9 = 27\n",
            "3 * 10 = 30\n",
            " \n",
            "Tabla del 4:\n",
            "4 * 1 = 4\n",
            "4 * 2 = 8\n",
            "4 * 3 = 12\n",
            "4 * 4 = 16\n",
            "4 * 5 = 20\n",
            "4 * 6 = 24\n",
            "4 * 7 = 28\n",
            "4 * 8 = 32\n",
            "4 * 9 = 36\n",
            "4 * 10 = 40\n",
            " \n",
            "Tabla del 5:\n",
            "5 * 1 = 5\n",
            "5 * 2 = 10\n",
            "5 * 3 = 15\n",
            "5 * 4 = 20\n",
            "5 * 5 = 25\n",
            "5 * 6 = 30\n",
            "5 * 7 = 35\n",
            "5 * 8 = 40\n",
            "5 * 9 = 45\n",
            "5 * 10 = 50\n",
            " \n",
            "Tabla del 6:\n",
            "6 * 1 = 6\n",
            "6 * 2 = 12\n",
            "6 * 3 = 18\n",
            "6 * 4 = 24\n",
            "6 * 5 = 30\n",
            "6 * 6 = 36\n",
            "6 * 7 = 42\n",
            "6 * 8 = 48\n",
            "6 * 9 = 54\n",
            "6 * 10 = 60\n",
            " \n",
            "Tabla del 7:\n",
            "7 * 1 = 7\n",
            "7 * 2 = 14\n",
            "7 * 3 = 21\n",
            "7 * 4 = 28\n",
            "7 * 5 = 35\n",
            "7 * 6 = 42\n",
            "7 * 7 = 49\n",
            "7 * 8 = 56\n",
            "7 * 9 = 63\n",
            "7 * 10 = 70\n",
            " \n",
            "Tabla del 8:\n",
            "8 * 1 = 8\n",
            "8 * 2 = 16\n",
            "8 * 3 = 24\n",
            "8 * 4 = 32\n",
            "8 * 5 = 40\n",
            "8 * 6 = 48\n",
            "8 * 7 = 56\n",
            "8 * 8 = 64\n",
            "8 * 9 = 72\n",
            "8 * 10 = 80\n",
            " \n",
            "Tabla del 9:\n",
            "9 * 1 = 9\n",
            "9 * 2 = 18\n",
            "9 * 3 = 27\n",
            "9 * 4 = 36\n",
            "9 * 5 = 45\n",
            "9 * 6 = 54\n",
            "9 * 7 = 63\n",
            "9 * 8 = 72\n",
            "9 * 9 = 81\n",
            "9 * 10 = 90\n",
            " \n",
            "Tabla del 10:\n",
            "10 * 1 = 10\n",
            "10 * 2 = 20\n",
            "10 * 3 = 30\n",
            "10 * 4 = 40\n",
            "10 * 5 = 50\n",
            "10 * 6 = 60\n",
            "10 * 7 = 70\n",
            "10 * 8 = 80\n",
            "10 * 9 = 90\n",
            "10 * 10 = 100\n",
            " \n"
          ]
        }
      ],
      "source": [
        "#Ciclos anidados\n",
        "for i in range(1,11):\n",
        "  print(f'Tabla del {i}:')\n",
        "  for j in range(1,11):\n",
        "    r = i * j\n",
        "    print(f'{i} * {j} = {r}')\n",
        "  print(' ')"
      ]
    },
    {
      "cell_type": "code",
      "execution_count": 6,
      "metadata": {
        "colab": {
          "base_uri": "https://localhost:8080/"
        },
        "id": "I5m9mpehlTTP",
        "outputId": "24eeab82-94c2-4e99-ec67-ed11d5e2d9bf"
      },
      "outputs": [
        {
          "output_type": "stream",
          "name": "stdout",
          "text": [
            "15\n"
          ]
        }
      ],
      "source": [
        "from typing import no_type_check\n",
        "VOCALES = 'aeiou'\n",
        "frase = 'SupercAlifragilisticoespialidoso'\n",
        "\n",
        "no_vocales = 0\n",
        "for letra in frase.lower():\n",
        "  if letra in VOCALES:\n",
        "    no_vocales += 1\n",
        "\n",
        "print(no_vocales)"
      ]
    },
    {
      "cell_type": "code",
      "execution_count": 7,
      "metadata": {
        "colab": {
          "base_uri": "https://localhost:8080/"
        },
        "id": "Sie8dGmlmTI9",
        "outputId": "570d2b7f-96cb-43f4-d7f9-9bb3b8ef8bcc"
      },
      "outputs": [
        {
          "output_type": "stream",
          "name": "stdout",
          "text": [
            "Agua\n",
            "Huevos\n",
            "Aceite\n",
            "Sal\n",
            "Limón\n",
            "0 Agua\n",
            "1 Huevos\n",
            "2 Aceite\n",
            "3 Sal\n",
            "4 Limón\n",
            "Agua mineral natural\n",
            "Huevos organicos\n",
            "Aceite de oliva virgen\n",
            "Sal de mar\n",
            "Limón verde\n",
            "[('Agua', 'mineral natural'), ('Huevos', 'organicos'), ('Aceite', 'de oliva virgen'), ('Sal', 'de mar'), ('Limón', 'verde')]\n"
          ]
        }
      ],
      "source": [
        "#Listas con ()\n",
        "compra = ['Agua', 'Huevos', 'Aceite', 'Sal', 'Limón']\n",
        "detalle = ['mineral natural', 'organicos', 'de oliva virgen', 'de mar', 'verde']\n",
        "\n",
        "#Sin enumerar\n",
        "for producto in compra:\n",
        "  print(producto)\n",
        "\n",
        "#Enumerar\n",
        "for i, producto in enumerate(compra):\n",
        "  print(i, producto)\n",
        "\n",
        "#Zip \n",
        "for producto, detail in zip(compra, detalle):\n",
        "  print(producto, detail)\n",
        "\n",
        "#Duplas con []\n",
        "print(list(zip(compra, detalle)))"
      ]
    },
    {
      "cell_type": "code",
      "execution_count": 8,
      "metadata": {
        "colab": {
          "base_uri": "https://localhost:8080/"
        },
        "id": "3-OQUM7KnyH_",
        "outputId": "277f7abe-8e82-40cf-fa19-6e2115fd6cd3"
      },
      "outputs": [
        {
          "output_type": "stream",
          "name": "stdout",
          "text": [
            "[32, 45, 11, 87, 20, 48]\n"
          ]
        }
      ],
      "source": [
        "valores = '32,45,11,87,20,48'\n",
        "lista_valores = []\n",
        "for valor in valores.split(','):\n",
        "  lista_valores.append(int(valor))\n",
        "\n",
        "print(lista_valores)"
      ]
    },
    {
      "cell_type": "code",
      "execution_count": 9,
      "metadata": {
        "colab": {
          "base_uri": "https://localhost:8080/"
        },
        "id": "5JQ6K--OofLI",
        "outputId": "09413846-2e83-4278-feab-9467e88c23fe"
      },
      "outputs": [
        {
          "output_type": "stream",
          "name": "stdout",
          "text": [
            "[32, 45, 11, 87, 20, 48]\n"
          ]
        }
      ],
      "source": [
        "lista_enteros = [int(valor) for valor in valores.split(',')]\n",
        "print(lista_enteros)"
      ]
    },
    {
      "cell_type": "code",
      "execution_count": 10,
      "metadata": {
        "colab": {
          "base_uri": "https://localhost:8080/"
        },
        "id": "r7AhbcdXo7xY",
        "outputId": "ecba5440-411d-4879-cddf-be5a9f01bf1e"
      },
      "outputs": [
        {
          "output_type": "stream",
          "name": "stdout",
          "text": [
            "['pan', 'jamon', 100, 123.45]\n",
            "pan\n",
            "123.45\n",
            "123.45\n",
            "jamon\n"
          ]
        }
      ],
      "source": [
        "lista = ['pan', 'jamon', 100, 123.45]\n",
        "print(lista)\n",
        "print(lista[0])\n",
        "print(lista[3])\n",
        "print(lista[-1])\n",
        "print(lista[-3])"
      ]
    },
    {
      "cell_type": "code",
      "execution_count": 11,
      "metadata": {
        "id": "XYrkGuY5pnS0"
      },
      "outputs": [],
      "source": [
        "lista.append('jugo')"
      ]
    },
    {
      "cell_type": "code",
      "execution_count": 12,
      "metadata": {
        "colab": {
          "base_uri": "https://localhost:8080/"
        },
        "id": "EScH4vQhprzK",
        "outputId": "9f370ba7-892a-491d-dfc4-4bfa03560fd6"
      },
      "outputs": [
        {
          "output_type": "execute_result",
          "data": {
            "text/plain": [
              "['pan', 'jamon', 100, 123.45, 'jugo']"
            ]
          },
          "metadata": {},
          "execution_count": 12
        }
      ],
      "source": [
        "lista"
      ]
    },
    {
      "cell_type": "code",
      "execution_count": 13,
      "metadata": {
        "colab": {
          "base_uri": "https://localhost:8080/"
        },
        "id": "UpdMVha6pyKd",
        "outputId": "3f9d59d3-b54f-4ecb-d97a-5185be9a056c"
      },
      "outputs": [
        {
          "output_type": "execute_result",
          "data": {
            "text/plain": [
              "1"
            ]
          },
          "metadata": {},
          "execution_count": 13
        }
      ],
      "source": [
        "lista.count(100)"
      ]
    },
    {
      "cell_type": "code",
      "execution_count": 14,
      "metadata": {
        "colab": {
          "base_uri": "https://localhost:8080/"
        },
        "id": "6FukAec3p907",
        "outputId": "b3ad14d5-5d95-4d05-ab4a-0c4b492415f0"
      },
      "outputs": [
        {
          "output_type": "execute_result",
          "data": {
            "text/plain": [
              "['pan', 'jamon', 100, 123.45, 'jugo', 40, 'cebolla', 10]"
            ]
          },
          "metadata": {},
          "execution_count": 14
        }
      ],
      "source": [
        "lista.extend([40,'cebolla',10]) #extend suma los valores a un arreglo\n",
        "lista"
      ]
    },
    {
      "cell_type": "code",
      "execution_count": 15,
      "metadata": {
        "colab": {
          "base_uri": "https://localhost:8080/"
        },
        "id": "i4PBslN0qMuV",
        "outputId": "8ee3eaa3-93e3-44e0-eb7b-05445aef0712"
      },
      "outputs": [
        {
          "output_type": "execute_result",
          "data": {
            "text/plain": [
              "['pan', 'jamon', 100, 123.45, 'jugo', 40, 'cebolla', 10, ['tocino', 90]]"
            ]
          },
          "metadata": {},
          "execution_count": 15
        }
      ],
      "source": [
        "lista.append(['tocino', 90])#append añade con todo y lista c:\n",
        "lista"
      ]
    },
    {
      "cell_type": "code",
      "execution_count": 16,
      "metadata": {
        "colab": {
          "base_uri": "https://localhost:8080/"
        },
        "id": "QBrjUxEmqchL",
        "outputId": "30df777e-9199-481a-ad06-18a1bd862649"
      },
      "outputs": [
        {
          "output_type": "execute_result",
          "data": {
            "text/plain": [
              "['pan',\n",
              " 'jamon',\n",
              " 100,\n",
              " 123.45,\n",
              " 'jugo',\n",
              " 40,\n",
              " 'cebolla',\n",
              " 10,\n",
              " ['tocino', 90],\n",
              " 500,\n",
              " 501,\n",
              " 502,\n",
              " 503,\n",
              " 504]"
            ]
          },
          "metadata": {},
          "execution_count": 16
        }
      ],
      "source": [
        "lista.extend(range(500, 505))\n",
        "lista"
      ]
    },
    {
      "cell_type": "code",
      "execution_count": 17,
      "metadata": {
        "colab": {
          "base_uri": "https://localhost:8080/"
        },
        "id": "j2GlOS4DqsYZ",
        "outputId": "b705b01b-d06e-4cd5-bf89-6c5209c28c62"
      },
      "outputs": [
        {
          "output_type": "execute_result",
          "data": {
            "text/plain": [
              "9"
            ]
          },
          "metadata": {},
          "execution_count": 17
        }
      ],
      "source": [
        "lista.index(500)"
      ]
    },
    {
      "cell_type": "code",
      "execution_count": 18,
      "metadata": {
        "colab": {
          "base_uri": "https://localhost:8080/"
        },
        "id": "eVzlg7Egq81F",
        "outputId": "49efd0e1-7883-46be-b94f-88b32bb5ed01"
      },
      "outputs": [
        {
          "output_type": "execute_result",
          "data": {
            "text/plain": [
              "['pan',\n",
              " 'jamon',\n",
              " 100,\n",
              " 'mostaza',\n",
              " 123.45,\n",
              " 'jugo',\n",
              " 40,\n",
              " 'cebolla',\n",
              " 10,\n",
              " ['tocino', 90],\n",
              " 500,\n",
              " 501,\n",
              " 502,\n",
              " 503,\n",
              " 504]"
            ]
          },
          "metadata": {},
          "execution_count": 18
        }
      ],
      "source": [
        "lista.insert(3, 'mostaza')#Se inserta un valor (posición, dato)\n",
        "lista"
      ]
    },
    {
      "cell_type": "code",
      "execution_count": 19,
      "metadata": {
        "colab": {
          "base_uri": "https://localhost:8080/"
        },
        "id": "ujgzzDiIrNqX",
        "outputId": "07116ded-943a-4dbb-ed62-67a27c865519"
      },
      "outputs": [
        {
          "output_type": "execute_result",
          "data": {
            "text/plain": [
              "['pan integral',\n",
              " 'jamon',\n",
              " 100,\n",
              " 'mostaza',\n",
              " 123.45,\n",
              " 'jugo',\n",
              " 40,\n",
              " 'cebolla',\n",
              " 10,\n",
              " ['tocino', 90],\n",
              " 500,\n",
              " 501,\n",
              " 502,\n",
              " 503,\n",
              " 504]"
            ]
          },
          "metadata": {},
          "execution_count": 19
        }
      ],
      "source": [
        "lista[0] = 'pan integral' #Se intercambia el valor\n",
        "lista"
      ]
    },
    {
      "cell_type": "code",
      "execution_count": 20,
      "metadata": {
        "colab": {
          "base_uri": "https://localhost:8080/"
        },
        "id": "KrkCCzBor8qN",
        "outputId": "b4e0b9cd-e19a-4d13-c1b1-06498d078f24"
      },
      "outputs": [
        {
          "output_type": "execute_result",
          "data": {
            "text/plain": [
              "[123.45, 'jugo', 40, 'cebolla', 10, ['tocino', 90]]"
            ]
          },
          "metadata": {},
          "execution_count": 20
        }
      ],
      "source": [
        "lista[4:10] #[Rango inicial, Rango final]"
      ]
    },
    {
      "cell_type": "code",
      "execution_count": 21,
      "metadata": {
        "colab": {
          "base_uri": "https://localhost:8080/"
        },
        "id": "5Y5knWnYruPw",
        "outputId": "0a7fe894-c054-4aec-e727-4af63fdc9f6b"
      },
      "outputs": [
        {
          "output_type": "execute_result",
          "data": {
            "text/plain": [
              "['pan integral',\n",
              " 'jamon',\n",
              " 100,\n",
              " 'mostaza',\n",
              " 123.45,\n",
              " 'jugo',\n",
              " 40,\n",
              " 'cebolla',\n",
              " 10,\n",
              " ['tocino', 90],\n",
              " 500,\n",
              " 501,\n",
              " 502,\n",
              " 503,\n",
              " 504]"
            ]
          },
          "metadata": {},
          "execution_count": 21
        }
      ],
      "source": [
        "lista[:]# El \":\" es todos los elementos"
      ]
    },
    {
      "cell_type": "code",
      "execution_count": 22,
      "metadata": {
        "colab": {
          "base_uri": "https://localhost:8080/"
        },
        "id": "5J8fsxFBr1VK",
        "outputId": "0ebcae75-fe95-46f2-fac6-566bbb45288a"
      },
      "outputs": [
        {
          "output_type": "execute_result",
          "data": {
            "text/plain": [
              "[504,\n",
              " 503,\n",
              " 502,\n",
              " 501,\n",
              " 500,\n",
              " ['tocino', 90],\n",
              " 10,\n",
              " 'cebolla',\n",
              " 40,\n",
              " 'jugo',\n",
              " 123.45,\n",
              " 'mostaza',\n",
              " 100,\n",
              " 'jamon',\n",
              " 'pan integral']"
            ]
          },
          "metadata": {},
          "execution_count": 22
        }
      ],
      "source": [
        "lista[::-1] #Te da el subindice en reversa"
      ]
    },
    {
      "cell_type": "code",
      "execution_count": 23,
      "metadata": {
        "colab": {
          "base_uri": "https://localhost:8080/"
        },
        "id": "CddpNVJssDyy",
        "outputId": "4946a86b-42a0-4a25-a919-a49a764723bb"
      },
      "outputs": [
        {
          "output_type": "stream",
          "name": "stdout",
          "text": [
            "['pan integral', 'jamon', 100, 'mostaza', 123.45, 'jugo', 40, 'cebolla', 10, ['tocino', 90], 500, 501, 502, 503, 504]\n",
            "['pan integral', 'jamon', 100, 'mostaza', 123.45, 'jugo', 40, 'cebolla', 10, ['tocino', 90], 500, 501, 502, 503, 504]\n"
          ]
        }
      ],
      "source": [
        "#Crear un alias de lista\n",
        "lista2 = lista\n",
        "print(lista)\n",
        "print(lista2)"
      ]
    },
    {
      "cell_type": "code",
      "execution_count": 24,
      "metadata": {
        "colab": {
          "base_uri": "https://localhost:8080/"
        },
        "id": "v7X9VKCQsYlf",
        "outputId": "0b51c81d-a67e-4bbb-d5e6-0ceb6d176074"
      },
      "outputs": [
        {
          "output_type": "stream",
          "name": "stdout",
          "text": [
            "['pan integral', 'tocino', 100, 'mostaza', 123.45, 'jugo', 40, 'cebolla', 10, ['tocino', 90], 500, 501, 502, 503, 504]\n",
            "['pan integral', 'tocino', 100, 'mostaza', 123.45, 'jugo', 40, 'cebolla', 10, ['tocino', 90], 500, 501, 502, 503, 504]\n"
          ]
        }
      ],
      "source": [
        "lista[1] = 'tocino'\n",
        "print(lista)\n",
        "print(lista2)"
      ]
    },
    {
      "cell_type": "code",
      "execution_count": 25,
      "metadata": {
        "colab": {
          "base_uri": "https://localhost:8080/"
        },
        "id": "1Yywb8VjstEs",
        "outputId": "77934289-ef0a-45f9-b602-5e14c3e049ce"
      },
      "outputs": [
        {
          "output_type": "stream",
          "name": "stdout",
          "text": [
            "['pan integral', 'tocino', 100, 'mayonesa', 123.45, 'jugo', 40, 'cebolla', 10, ['tocino', 90], 500, 501, 502, 503, 504]\n",
            "['pan integral', 'tocino', 100, 'mayonesa', 123.45, 'jugo', 40, 'cebolla', 10, ['tocino', 90], 500, 501, 502, 503, 504]\n"
          ]
        }
      ],
      "source": [
        "lista2[3] = 'mayonesa'\n",
        "print(lista)\n",
        "print(lista2)"
      ]
    },
    {
      "cell_type": "code",
      "execution_count": 26,
      "metadata": {
        "colab": {
          "base_uri": "https://localhost:8080/"
        },
        "id": "XWr9RIVXs3p7",
        "outputId": "d5652996-181e-4297-e59a-d0de9ebd3c53"
      },
      "outputs": [
        {
          "output_type": "stream",
          "name": "stdout",
          "text": [
            "['pan integral', 'tocino', 100, 'mayonesa', 123.45, 'jugo', 40, 'cebolla', 10, ['tocino', 90], 500, 501, 502, 503, 504]\n",
            "['pan integral', 'tocino', 100, 'mayonesa', 123.45, 'jugo', 40, 'cebolla', 10, ['tocino', 90], 500, 501, 502, 503, 504]\n"
          ]
        }
      ],
      "source": [
        "#Crear una copia\n",
        "lista3 = lista[:]\n",
        "print(lista)\n",
        "print(lista3)"
      ]
    },
    {
      "cell_type": "code",
      "execution_count": 27,
      "metadata": {
        "colab": {
          "base_uri": "https://localhost:8080/"
        },
        "id": "Hvk_KxK4tEBz",
        "outputId": "3a292d3b-9cc0-4022-c3cb-f99bb6be9cfe"
      },
      "outputs": [
        {
          "output_type": "stream",
          "name": "stdout",
          "text": [
            "['pan integral', 'tocino', 100, 'mayonesa', 123.45, 'agua', 40, 'cebolla', 10, ['tocino', 90], 500, 501, 502, 503, 504]\n",
            "['pan integral', 'tocino', 100, 'mayonesa', 123.45, 'agua', 40, 'cebolla', 10, ['tocino', 90], 500, 501, 502, 503, 504]\n",
            "['pan integral', 'tocino', 100, 'mayonesa', 123.45, 'jugo', 40, 'cebolla', 10, ['tocino', 90], 500, 501, 502, 503, 504]\n"
          ]
        }
      ],
      "source": [
        "lista[5] = 'agua'\n",
        "print(lista)\n",
        "print(lista2)\n",
        "print(lista3)"
      ]
    },
    {
      "cell_type": "code",
      "execution_count": 28,
      "metadata": {
        "colab": {
          "base_uri": "https://localhost:8080/"
        },
        "id": "5fJZuNuVteqB",
        "outputId": "ab69db25-a5e9-410e-ac4f-1ab2e455e180"
      },
      "outputs": [
        {
          "output_type": "execute_result",
          "data": {
            "text/plain": [
              "['pan integral',\n",
              " 'tocino',\n",
              " 100,\n",
              " 'mayonesa',\n",
              " 123.45,\n",
              " 'agua',\n",
              " 40,\n",
              " 'cebolla',\n",
              " 10,\n",
              " ['tocino', 90],\n",
              " 500,\n",
              " 501,\n",
              " 502,\n",
              " 503,\n",
              " 504,\n",
              " 'pan integral',\n",
              " 'tocino',\n",
              " 100,\n",
              " 'mayonesa',\n",
              " 123.45,\n",
              " 'jugo',\n",
              " 40,\n",
              " 'cebolla',\n",
              " 10,\n",
              " ['tocino', 90],\n",
              " 500,\n",
              " 501,\n",
              " 502,\n",
              " 503,\n",
              " 504]"
            ]
          },
          "metadata": {},
          "execution_count": 28
        }
      ],
      "source": [
        "lista4 = lista + lista3\n",
        "lista4"
      ]
    },
    {
      "cell_type": "code",
      "source": [
        "#Pop muestra el ultimo elemento de una lista y lo elimina\n",
        "lista4.pop()"
      ],
      "metadata": {
        "colab": {
          "base_uri": "https://localhost:8080/"
        },
        "id": "aCvE-4A-SuUS",
        "outputId": "8b33793e-461b-473d-afd4-a38a96493b1c"
      },
      "execution_count": 29,
      "outputs": [
        {
          "output_type": "execute_result",
          "data": {
            "text/plain": [
              "504"
            ]
          },
          "metadata": {},
          "execution_count": 29
        }
      ]
    },
    {
      "cell_type": "code",
      "source": [
        "lista4"
      ],
      "metadata": {
        "colab": {
          "base_uri": "https://localhost:8080/"
        },
        "id": "ZUFmZNRyTGRM",
        "outputId": "3b76c244-b924-41e3-80b6-5b891fbf73f4"
      },
      "execution_count": 30,
      "outputs": [
        {
          "output_type": "execute_result",
          "data": {
            "text/plain": [
              "['pan integral',\n",
              " 'tocino',\n",
              " 100,\n",
              " 'mayonesa',\n",
              " 123.45,\n",
              " 'agua',\n",
              " 40,\n",
              " 'cebolla',\n",
              " 10,\n",
              " ['tocino', 90],\n",
              " 500,\n",
              " 501,\n",
              " 502,\n",
              " 503,\n",
              " 504,\n",
              " 'pan integral',\n",
              " 'tocino',\n",
              " 100,\n",
              " 'mayonesa',\n",
              " 123.45,\n",
              " 'jugo',\n",
              " 40,\n",
              " 'cebolla',\n",
              " 10,\n",
              " ['tocino', 90],\n",
              " 500,\n",
              " 501,\n",
              " 502,\n",
              " 503]"
            ]
          },
          "metadata": {},
          "execution_count": 30
        }
      ]
    },
    {
      "cell_type": "code",
      "source": [
        "lista4.remove(100)"
      ],
      "metadata": {
        "id": "sVla_SuaTJLD"
      },
      "execution_count": 31,
      "outputs": []
    },
    {
      "cell_type": "code",
      "source": [
        "lista4"
      ],
      "metadata": {
        "colab": {
          "base_uri": "https://localhost:8080/"
        },
        "id": "G1LvZfg0TNxU",
        "outputId": "f12e98dc-7eb3-4c8c-9ffa-b32c74b1fdad"
      },
      "execution_count": 32,
      "outputs": [
        {
          "output_type": "execute_result",
          "data": {
            "text/plain": [
              "['pan integral',\n",
              " 'tocino',\n",
              " 'mayonesa',\n",
              " 123.45,\n",
              " 'agua',\n",
              " 40,\n",
              " 'cebolla',\n",
              " 10,\n",
              " ['tocino', 90],\n",
              " 500,\n",
              " 501,\n",
              " 502,\n",
              " 503,\n",
              " 504,\n",
              " 'pan integral',\n",
              " 'tocino',\n",
              " 100,\n",
              " 'mayonesa',\n",
              " 123.45,\n",
              " 'jugo',\n",
              " 40,\n",
              " 'cebolla',\n",
              " 10,\n",
              " ['tocino', 90],\n",
              " 500,\n",
              " 501,\n",
              " 502,\n",
              " 503]"
            ]
          },
          "metadata": {},
          "execution_count": 32
        }
      ]
    },
    {
      "cell_type": "code",
      "source": [
        "for n in range(4,9):\n",
        "  lista4.pop(n)\n",
        "lista4"
      ],
      "metadata": {
        "colab": {
          "base_uri": "https://localhost:8080/"
        },
        "id": "mKD8IWn9TQbE",
        "outputId": "bc802847-43da-4d0a-c796-58fa338a0cfa"
      },
      "execution_count": 33,
      "outputs": [
        {
          "output_type": "execute_result",
          "data": {
            "text/plain": [
              "['pan integral',\n",
              " 'tocino',\n",
              " 'mayonesa',\n",
              " 123.45,\n",
              " 40,\n",
              " 10,\n",
              " 500,\n",
              " 502,\n",
              " 504,\n",
              " 'pan integral',\n",
              " 'tocino',\n",
              " 100,\n",
              " 'mayonesa',\n",
              " 123.45,\n",
              " 'jugo',\n",
              " 40,\n",
              " 'cebolla',\n",
              " 10,\n",
              " ['tocino', 90],\n",
              " 500,\n",
              " 501,\n",
              " 502,\n",
              " 503]"
            ]
          },
          "metadata": {},
          "execution_count": 33
        }
      ]
    },
    {
      "cell_type": "code",
      "execution_count": 34,
      "metadata": {
        "colab": {
          "base_uri": "https://localhost:8080/"
        },
        "id": "T9LFwj6ZtyiC",
        "outputId": "bba3cf4b-931a-42f2-ce1e-b30ac617ea87"
      },
      "outputs": [
        {
          "output_type": "execute_result",
          "data": {
            "text/plain": [
              "['Python', 'Ciencia de datos', 'Big Data', 'Python', 'Base de datos']"
            ]
          },
          "metadata": {},
          "execution_count": 34
        }
      ],
      "source": [
        "lista_cursos = ['Python', 'Ciencia de datos', 'Big Data', 'Python', 'Base de datos']\n",
        "lista_cursos"
      ]
    },
    {
      "cell_type": "code",
      "execution_count": 35,
      "metadata": {
        "colab": {
          "base_uri": "https://localhost:8080/"
        },
        "id": "qCROOajbt3oT",
        "outputId": "2ef6c876-1cc6-4582-da3a-b77eb0535e82"
      },
      "outputs": [
        {
          "output_type": "execute_result",
          "data": {
            "text/plain": [
              "{'Base de datos', 'Big Data', 'Ciencia de datos', 'Python'}"
            ]
          },
          "metadata": {},
          "execution_count": 35
        }
      ],
      "source": [
        "set_cursos = set(lista_cursos) #Genera un conjunto de elementos únicos\n",
        "set_cursos"
      ]
    },
    {
      "cell_type": "code",
      "execution_count": 36,
      "metadata": {
        "colab": {
          "base_uri": "https://localhost:8080/"
        },
        "id": "bdXom4jBudCT",
        "outputId": "82766cea-0f84-41b3-e3b4-5403cf63fa98"
      },
      "outputs": [
        {
          "output_type": "execute_result",
          "data": {
            "text/plain": [
              "{'Base de datos', 'Mineria', 'Pandas', 'Python'}"
            ]
          },
          "metadata": {},
          "execution_count": 36
        }
      ],
      "source": [
        "set_cursos2 = set(['Python', 'Pandas', 'Mineria', 'Base de datos'])\n",
        "set_cursos2"
      ]
    },
    {
      "cell_type": "code",
      "execution_count": 39,
      "metadata": {
        "colab": {
          "base_uri": "https://localhost:8080/"
        },
        "id": "0dOD_1kXulhh",
        "outputId": "c6f5842e-d9a8-4bfb-892b-b82fd90598bd"
      },
      "outputs": [
        {
          "output_type": "stream",
          "name": "stdout",
          "text": [
            "{'Base de datos', 'Mineria', 'Big Data', 'Python', 'Ciencia de datos', 'Pandas'}\n",
            "{'Base de datos', 'Mineria', 'Big Data', 'Python', 'Ciencia de datos', 'Pandas'}\n"
          ]
        }
      ],
      "source": [
        "#Union |\n",
        "print(set_cursos.union(set_cursos2))\n",
        "print(set_cursos | set_cursos2)\n"
      ]
    },
    {
      "cell_type": "code",
      "source": [
        "#Intersección &\n",
        "print(set_cursos.intersection(set_cursos2))\n",
        "print(set_cursos & set_cursos2)"
      ],
      "metadata": {
        "colab": {
          "base_uri": "https://localhost:8080/"
        },
        "id": "UJm4nFT1TfJg",
        "outputId": "9a630577-857e-4226-f147-df3fe0dab68c"
      },
      "execution_count": 40,
      "outputs": [
        {
          "output_type": "stream",
          "name": "stdout",
          "text": [
            "{'Python', 'Base de datos'}\n",
            "{'Python', 'Base de datos'}\n"
          ]
        }
      ]
    },
    {
      "cell_type": "code",
      "source": [
        "set_cursos.difference(set_cursos2)\n"
      ],
      "metadata": {
        "colab": {
          "base_uri": "https://localhost:8080/"
        },
        "id": "e4aAc0t_Tvx0",
        "outputId": "050e9774-93fc-4331-b36c-4418d8bb8823"
      },
      "execution_count": 41,
      "outputs": [
        {
          "output_type": "execute_result",
          "data": {
            "text/plain": [
              "{'Big Data', 'Ciencia de datos'}"
            ]
          },
          "metadata": {},
          "execution_count": 41
        }
      ]
    },
    {
      "cell_type": "code",
      "source": [
        "diccionario = {'nombre' : 'Juan', 'edad' : 22, 'cursos': ['Python','Ciencia de datos','Big Data'] }\n",
        "diccionario"
      ],
      "metadata": {
        "colab": {
          "base_uri": "https://localhost:8080/"
        },
        "id": "Fel4RO62T5iP",
        "outputId": "7eb2944f-5e0d-41eb-f28c-637394297697"
      },
      "execution_count": 42,
      "outputs": [
        {
          "output_type": "execute_result",
          "data": {
            "text/plain": [
              "{'cursos': ['Python', 'Ciencia de datos', 'Big Data'],\n",
              " 'edad': 22,\n",
              " 'nombre': 'Juan'}"
            ]
          },
          "metadata": {},
          "execution_count": 42
        }
      ]
    },
    {
      "cell_type": "code",
      "source": [
        "diccionario['cursos']"
      ],
      "metadata": {
        "colab": {
          "base_uri": "https://localhost:8080/"
        },
        "id": "SwYtJlekT8PX",
        "outputId": "c45d68db-67ab-4657-8476-5784bbba5403"
      },
      "execution_count": 43,
      "outputs": [
        {
          "output_type": "execute_result",
          "data": {
            "text/plain": [
              "['Python', 'Ciencia de datos', 'Big Data']"
            ]
          },
          "metadata": {},
          "execution_count": 43
        }
      ]
    },
    {
      "cell_type": "code",
      "source": [
        "for c in diccionario['cursos']:\n",
        "  print(c)"
      ],
      "metadata": {
        "colab": {
          "base_uri": "https://localhost:8080/"
        },
        "id": "KNvVkoNaT_fP",
        "outputId": "c1649faa-b9b9-4a6d-e98c-6a4c829d0814"
      },
      "execution_count": 44,
      "outputs": [
        {
          "output_type": "stream",
          "name": "stdout",
          "text": [
            "Python\n",
            "Ciencia de datos\n",
            "Big Data\n"
          ]
        }
      ]
    },
    {
      "cell_type": "code",
      "source": [
        "#Llaves de diccionario\n",
        "for k in diccionario.keys():\n",
        "  print(k)"
      ],
      "metadata": {
        "colab": {
          "base_uri": "https://localhost:8080/"
        },
        "id": "7yNV5_EJUFPx",
        "outputId": "bd4528c8-0234-4a53-f214-121ce4e2ed97"
      },
      "execution_count": 45,
      "outputs": [
        {
          "output_type": "stream",
          "name": "stdout",
          "text": [
            "nombre\n",
            "edad\n",
            "cursos\n"
          ]
        }
      ]
    },
    {
      "cell_type": "code",
      "source": [
        "#Valores de diccionario\n",
        "for v in diccionario.values():\n",
        "  print(v)"
      ],
      "metadata": {
        "colab": {
          "base_uri": "https://localhost:8080/"
        },
        "id": "xBbRQeZlUMDC",
        "outputId": "000f58d6-8b4b-464a-b045-df69114a9f53"
      },
      "execution_count": 46,
      "outputs": [
        {
          "output_type": "stream",
          "name": "stdout",
          "text": [
            "Juan\n",
            "22\n",
            "['Python', 'Ciencia de datos', 'Big Data']\n"
          ]
        }
      ]
    },
    {
      "cell_type": "code",
      "source": [
        "#Items de diccionario\n",
        "for i in diccionario.items():\n",
        "  print(i)"
      ],
      "metadata": {
        "colab": {
          "base_uri": "https://localhost:8080/"
        },
        "id": "WCPB4FynUTf1",
        "outputId": "2edb4343-82e6-42d3-ba90-63d3b40e71a3"
      },
      "execution_count": 47,
      "outputs": [
        {
          "output_type": "stream",
          "name": "stdout",
          "text": [
            "('nombre', 'Juan')\n",
            "('edad', 22)\n",
            "('cursos', ['Python', 'Ciencia de datos', 'Big Data'])\n"
          ]
        }
      ]
    },
    {
      "cell_type": "code",
      "source": [
        "datos = ('Tokyo:38_140_000;Delhi:26_454_000;Shanghai:24_484_000;'\n",
        "    'Mumbai:21_357_000;São Paulo:21_297_000;CDMX:24_800_000')\n",
        "datos"
      ],
      "metadata": {
        "colab": {
          "base_uri": "https://localhost:8080/",
          "height": 35
        },
        "id": "VmcdEz_6Ue26",
        "outputId": "30a90549-d4e8-4593-df61-2a5486aded3e"
      },
      "execution_count": 48,
      "outputs": [
        {
          "output_type": "execute_result",
          "data": {
            "text/plain": [
              "'Tokyo:38_140_000;Delhi:26_454_000;Shanghai:24_484_000;Mumbai:21_357_000;São Paulo:21_297_000;CDMX:24_800_000'"
            ],
            "application/vnd.google.colaboratory.intrinsic+json": {
              "type": "string"
            }
          },
          "metadata": {},
          "execution_count": 48
        }
      ]
    },
    {
      "cell_type": "code",
      "source": [
        "ciudades = {}\n",
        "for r in datos.split(';'):\n",
        "  ciudad, poblacion = r.split(':')\n",
        "  ciudades[ciudad] = int(poblacion)\n",
        "ciudades"
      ],
      "metadata": {
        "colab": {
          "base_uri": "https://localhost:8080/"
        },
        "id": "It-lb9OKUg9K",
        "outputId": "6b1b7541-e4a1-4f26-c5cf-ceadf9c74c61"
      },
      "execution_count": 50,
      "outputs": [
        {
          "output_type": "execute_result",
          "data": {
            "text/plain": [
              "{'CDMX': 24800000,\n",
              " 'Delhi': 26454000,\n",
              " 'Mumbai': 21357000,\n",
              " 'Shanghai': 24484000,\n",
              " 'São Paulo': 21297000,\n",
              " 'Tokyo': 38140000}"
            ]
          },
          "metadata": {},
          "execution_count": 50
        }
      ]
    }
  ],
  "metadata": {
    "colab": {
      "collapsed_sections": [],
      "name": "01Intro.ipynb",
      "provenance": [],
      "authorship_tag": "ABX9TyPsbDrvt6KjKTKWy9j5PR4o",
      "include_colab_link": true
    },
    "kernelspec": {
      "display_name": "Python 3",
      "name": "python3"
    },
    "language_info": {
      "name": "python"
    }
  },
  "nbformat": 4,
  "nbformat_minor": 0
}